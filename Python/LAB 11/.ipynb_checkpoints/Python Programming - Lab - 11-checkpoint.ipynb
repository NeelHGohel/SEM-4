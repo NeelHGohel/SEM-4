{
 "cells": [
  {
   "cell_type": "markdown",
   "metadata": {},
   "source": [
    "\n",
    "<a href='https://www.darshan.ac.in/'> <img src='https://www.darshan.ac.in/Content/media/DU_Logo.svg' width=\"250\" height=\"300\"/></a>\n",
    "<pre>\n",
    "<center><b><h1>Python Programming - 2301CS404</b></center>\n",
    "<center><b><h1>Gohel Neel</b></center>\n",
    "<center><b><h3>Enrollnment No. : 23010101089</b></center>\n",
    "<center><b><h3>Date: 10-02-2025</b></center>\n",
    "<center><b><h1>Lab - 11</b></center>    \n",
    "<pre>"
   ]
  },
  {
   "cell_type": "markdown",
   "metadata": {},
   "source": [
    "# Modules"
   ]
  },
  {
   "cell_type": "markdown",
   "metadata": {},
   "source": [
    "### 01) WAP to create Calculator module which defines functions like add, sub,mul and div. \n",
    "### Create another .py file that uses the functions available in Calculator module."
   ]
  },
  {
   "cell_type": "code",
   "execution_count": 1,
   "metadata": {},
   "outputs": [
    {
     "name": "stdin",
     "output_type": "stream",
     "text": [
      "Enter 1st Number  11\n",
      "Enter 2nd Number  22\n"
     ]
    },
    {
     "name": "stdout",
     "output_type": "stream",
     "text": [
      "Sum of two number is 33\n",
      "Substraction of two number is -11\n",
      "Multiplication of two number is 242\n",
      "Division of two number is 0\n"
     ]
    }
   ],
   "source": [
    "import calculator as cal\n",
    "\n",
    "a = int(input(\"Enter 1st Number \"))\n",
    "b = int(input(\"Enter 2nd Number \"))\n",
    "\n",
    "print(f\"Sum of two number is\",cal.add(a,b))\n",
    "print(f\"Substraction of two number is\",cal.sub(a,b))\n",
    "print(f\"Multiplication of two number is\",cal.multiply(a,b))\n",
    "print(f\"Division of two number is\",cal.divide(a,b))"
   ]
  },
  {
   "cell_type": "markdown",
   "metadata": {},
   "source": [
    "### 02) WAP to pick a random character from a given String."
   ]
  },
  {
   "cell_type": "code",
   "execution_count": 7,
   "metadata": {},
   "outputs": [
    {
     "name": "stdout",
     "output_type": "stream",
     "text": [
      "Enter a String neel gohel\n",
      "e\n"
     ]
    }
   ],
   "source": [
    "import random as rd\n",
    "\n",
    "temp = input(\"Enter a String \")\n",
    "\n",
    "print(rd.choice(temp))"
   ]
  },
  {
   "cell_type": "markdown",
   "metadata": {},
   "source": [
    "### 03) WAP to pick a random element from a given list."
   ]
  },
  {
   "cell_type": "code",
   "execution_count": 2,
   "metadata": {},
   "outputs": [
    {
     "name": "stdout",
     "output_type": "stream",
     "text": [
      "Neel\n"
     ]
    }
   ],
   "source": [
    "import random as rd\n",
    "\n",
    "l1 = [\"Neel\", \"Raj\", \"Shubham\"]\n",
    "\n",
    "print(rd.choice(l1))"
   ]
  },
  {
   "cell_type": "markdown",
   "metadata": {},
   "source": [
    "### 04) WAP to roll a dice in such a way that every time you get the same number."
   ]
  },
  {
   "cell_type": "code",
   "execution_count": 3,
   "metadata": {},
   "outputs": [
    {
     "name": "stdout",
     "output_type": "stream",
     "text": [
      "1\n"
     ]
    }
   ],
   "source": [
    "print(rd.randrange(1,2))"
   ]
  },
  {
   "cell_type": "markdown",
   "metadata": {},
   "source": [
    "### 05) WAP to generate 3 random integers between 100 and 999 which is divisible by 5."
   ]
  },
  {
   "cell_type": "code",
   "execution_count": 4,
   "metadata": {},
   "outputs": [
    {
     "name": "stdout",
     "output_type": "stream",
     "text": [
      "[210, 605, 140]\n"
     ]
    }
   ],
   "source": [
    "import random\n",
    "\n",
    "l1 = []\n",
    "\n",
    "while len(l1)<3:\n",
    "    a = random.randint(100,999)\n",
    "    if(a%5==0):\n",
    "        l1.append(a)\n",
    "print(l1)"
   ]
  },
  {
   "cell_type": "markdown",
   "metadata": {},
   "source": [
    "### 06) WAP to generate 100 random lottery tickets and pick two lucky tickets from it and announce them as Winner and Runner up respectively."
   ]
  },
  {
   "cell_type": "code",
   "execution_count": 5,
   "metadata": {},
   "outputs": [
    {
     "name": "stdout",
     "output_type": "stream",
     "text": [
      "Winner is  194\n",
      "Runner up is  580\n"
     ]
    }
   ],
   "source": [
    "import random as rd\n",
    "\n",
    "l1 = []\n",
    "\n",
    "for i in range(0,100):\n",
    "    l1.append(rd.randrange(100,999))\n",
    "\n",
    "\n",
    "print(\"Winner is \",rd.choice(l1))\n",
    "print(\"Runner up is \",rd.choice(l1))"
   ]
  },
  {
   "cell_type": "markdown",
   "metadata": {},
   "source": [
    "### 07) WAP to print current date and time in Python."
   ]
  },
  {
   "cell_type": "code",
   "execution_count": 6,
   "metadata": {},
   "outputs": [
    {
     "name": "stdout",
     "output_type": "stream",
     "text": [
      "2025-02-10 15:56:58.660911\n"
     ]
    }
   ],
   "source": [
    "from datetime import datetime\n",
    "print(datetime.now())"
   ]
  },
  {
   "cell_type": "markdown",
   "metadata": {},
   "source": [
    "### 08) Subtract a week (7 days) from a given date in Python."
   ]
  },
  {
   "cell_type": "code",
   "execution_count": 7,
   "metadata": {},
   "outputs": [
    {
     "name": "stdout",
     "output_type": "stream",
     "text": [
      "Today_Date 2025-02-10 15:57:00.504418\n",
      "before 7days: 2025-02-03 15:57:00.504418\n"
     ]
    }
   ],
   "source": [
    "import datetime\n",
    "\n",
    "d1 = datetime.datetime.now()\n",
    " \n",
    "print(\"Today_Date\", d1)\n",
    "  \n",
    "d2 = d1 - datetime.timedelta(days=7)\n",
    " \n",
    "print('before 7days:', d2)"
   ]
  },
  {
   "cell_type": "markdown",
   "metadata": {},
   "source": [
    "### 09) WAP to Calculate number of days between two given dates."
   ]
  },
  {
   "cell_type": "code",
   "execution_count": 8,
   "metadata": {},
   "outputs": [
    {
     "name": "stdout",
     "output_type": "stream",
     "text": [
      "Today_Date 2025-02-10 15:57:02.459487\n",
      "After days: 2025-02-11 15:57:02.459487\n",
      "Day Diffrence 1 day, 0:00:00\n"
     ]
    }
   ],
   "source": [
    "import random\n",
    "\n",
    "d1 = datetime.datetime.now()\n",
    " \n",
    "print(\"Today_Date\", d1)\n",
    "  \n",
    "d2 = d1 + datetime.timedelta(days= random.randrange(1,7))\n",
    " \n",
    "print(\"After days:\", d2)\n",
    "\n",
    "print(\"Day Diffrence\" , d2-d1)"
   ]
  },
  {
   "cell_type": "markdown",
   "metadata": {},
   "source": [
    "### 10) WAP to Find the day of the week of a given date.(i.e. wether it is sunday/monday/tuesday/etc.)"
   ]
  },
  {
   "cell_type": "code",
   "execution_count": 9,
   "metadata": {},
   "outputs": [
    {
     "name": "stdout",
     "output_type": "stream",
     "text": [
      "Thursday\n"
     ]
    }
   ],
   "source": [
    "import datetime\n",
    "\n",
    "d1 = datetime.datetime.now()\n",
    " \n",
    "# print(\"Today_Date\", d1)\n",
    "  \n",
    "d2 = d1 + datetime.timedelta(days= random.randrange(1,7))\n",
    " \n",
    "# print(\"After days:\", d2)\n",
    "\n",
    "print(d2.strftime(\"%A\"))\n"
   ]
  },
  {
   "cell_type": "markdown",
   "metadata": {},
   "source": [
    "### 11) WAP to demonstrate the use of date time module."
   ]
  },
  {
   "cell_type": "code",
   "execution_count": null,
   "metadata": {},
   "outputs": [],
   "source": []
  },
  {
   "cell_type": "markdown",
   "metadata": {},
   "source": [
    "### 12) WAP to demonstrate the use of the math module."
   ]
  },
  {
   "cell_type": "code",
   "execution_count": null,
   "metadata": {},
   "outputs": [],
   "source": []
  }
 ],
 "metadata": {
  "kernelspec": {
   "display_name": "Python 3 (ipykernel)",
   "language": "python",
   "name": "python3"
  },
  "language_info": {
   "codemirror_mode": {
    "name": "ipython",
    "version": 3
   },
   "file_extension": ".py",
   "mimetype": "text/x-python",
   "name": "python",
   "nbconvert_exporter": "python",
   "pygments_lexer": "ipython3",
   "version": "3.13.0"
  }
 },
 "nbformat": 4,
 "nbformat_minor": 4
}
