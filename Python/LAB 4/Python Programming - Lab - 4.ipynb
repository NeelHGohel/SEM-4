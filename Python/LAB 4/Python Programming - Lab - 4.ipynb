{
 "cells": [
  {
   "cell_type": "markdown",
   "metadata": {},
   "source": [
    "\n",
    "<a href='https://www.darshan.ac.in/'> <img src='https://www.darshan.ac.in/Content/media/DU_Logo.svg' width=\"250\" height=\"300\"/></a>\n",
    "<pre>\n",
    "<center><b><h1>Python Programming - 2301CS404</b></center>\n",
    "<center><b><h1>Gohel Neel</b></center>\n",
    "<center><b><h3>Enrollnment No. : 23010101089</b></center>\n",
    "<center><b><h3>Date: 16-12-2024</b></center>\n",
    "<center><b><h1>Lab - 4</b></center>    \n",
    "<pre>"
   ]
  },
  {
   "cell_type": "markdown",
   "metadata": {},
   "source": [
    "# String"
   ]
  },
  {
   "cell_type": "markdown",
   "metadata": {},
   "source": [
    "### 01) WAP to check whether the given string is palindrome or not."
   ]
  },
  {
   "cell_type": "code",
   "execution_count": 2,
   "metadata": {},
   "outputs": [
    {
     "name": "stdin",
     "output_type": "stream",
     "text": [
      "Enter String  aba\n"
     ]
    },
    {
     "name": "stdout",
     "output_type": "stream",
     "text": [
      "aba is palindrome\n"
     ]
    }
   ],
   "source": [
    "str = input(\"Enter String \")\n",
    "temp = str[::-1]\n",
    "if temp == str:\n",
    "    print(f\"{str} is palindrome\")\n",
    "else:\n",
    "    print(f\"{str} is not palindrome\")"
   ]
  },
  {
   "cell_type": "markdown",
   "metadata": {},
   "source": [
    "### 02) WAP to reverse the words in the given string."
   ]
  },
  {
   "cell_type": "code",
   "execution_count": 6,
   "metadata": {},
   "outputs": [
    {
     "name": "stdin",
     "output_type": "stream",
     "text": [
      "Enter String  neel gohel\n"
     ]
    },
    {
     "name": "stdout",
     "output_type": "stream",
     "text": [
      "['gohel', 'neel']\n"
     ]
    }
   ],
   "source": [
    "str = input(\"Enter String \")\n",
    "temp = str.split(\" \")\n",
    "ans = temp[::-1]\n",
    "print(ans)"
   ]
  },
  {
   "cell_type": "markdown",
   "metadata": {},
   "source": [
    "### 03) WAP to remove ith character from given string."
   ]
  },
  {
   "cell_type": "code",
   "execution_count": 7,
   "metadata": {},
   "outputs": [
    {
     "name": "stdin",
     "output_type": "stream",
     "text": [
      "Enter String  neel\n",
      "Enter index  1\n"
     ]
    },
    {
     "name": "stdout",
     "output_type": "stream",
     "text": [
      "nel\n"
     ]
    }
   ],
   "source": [
    "str = input(\"Enter String \")\n",
    "index = int(input(\"Enter index \"))\n",
    "temp = str[:index:] + str[index+1::]\n",
    "print(temp)"
   ]
  },
  {
   "cell_type": "markdown",
   "metadata": {},
   "source": [
    "### 04) WAP to find length of string without using len function."
   ]
  },
  {
   "cell_type": "code",
   "execution_count": 8,
   "metadata": {},
   "outputs": [
    {
     "name": "stdin",
     "output_type": "stream",
     "text": [
      "Enter String  neel\n"
     ]
    },
    {
     "name": "stdout",
     "output_type": "stream",
     "text": [
      "Length of neel is 4 \n"
     ]
    }
   ],
   "source": [
    "str = input(\"Enter String \")\n",
    "count = 0\n",
    "for i in str:\n",
    "    count += 1\n",
    "print(f'Length of {str} is {count} ')"
   ]
  },
  {
   "cell_type": "markdown",
   "metadata": {},
   "source": [
    "### 05) WAP to print even length word in string."
   ]
  },
  {
   "cell_type": "code",
   "execution_count": 9,
   "metadata": {},
   "outputs": [
    {
     "name": "stdin",
     "output_type": "stream",
     "text": [
      "Enter String  neel gohel\n"
     ]
    },
    {
     "name": "stdout",
     "output_type": "stream",
     "text": [
      "neel\n"
     ]
    }
   ],
   "source": [
    "str = input(\"Enter String \")\n",
    "temp = str.split(\" \")\n",
    "for i in temp:\n",
    "    if(len(i)%2==0):\n",
    "        print(i)"
   ]
  },
  {
   "cell_type": "markdown",
   "metadata": {},
   "source": [
    "### 06) WAP to count numbers of vowels in given string."
   ]
  },
  {
   "cell_type": "code",
   "execution_count": 10,
   "metadata": {},
   "outputs": [
    {
     "name": "stdin",
     "output_type": "stream",
     "text": [
      "Enter String  neel\n"
     ]
    },
    {
     "name": "stdout",
     "output_type": "stream",
     "text": [
      "2\n"
     ]
    }
   ],
   "source": [
    "str = input(\"Enter String \")\n",
    "count=0\n",
    "for i in str:\n",
    "    if(i=='a' or i=='e' or i=='o' or i=='i' or i=='u'):\n",
    "        count+=1\n",
    "print(count)"
   ]
  },
  {
   "cell_type": "markdown",
   "metadata": {},
   "source": [
    "### 07) WAP to capitalize the first and last character of each word in a string."
   ]
  },
  {
   "cell_type": "code",
   "execution_count": 12,
   "metadata": {},
   "outputs": [
    {
     "name": "stdin",
     "output_type": "stream",
     "text": [
      "Enter String  neel gohel darshan\n"
     ]
    },
    {
     "name": "stdout",
     "output_type": "stream",
     "text": [
      "NeeL GoheL DarshaN \n"
     ]
    }
   ],
   "source": [
    "str = input(\"Enter String \")\n",
    "str = str.title()\n",
    "result = \"\"\n",
    "temp = str.split(\" \")\n",
    "for word in temp:\n",
    "    result = result + word[:-1] + word[-1].upper()+\" \"\n",
    "print(result)"
   ]
  },
  {
   "cell_type": "markdown",
   "metadata": {},
   "source": [
    "### 08) WAP to convert given array to string."
   ]
  },
  {
   "cell_type": "code",
   "execution_count": 15,
   "metadata": {},
   "outputs": [
    {
     "name": "stdout",
     "output_type": "stream",
     "text": [
      "Darshan University Rajkot\n"
     ]
    }
   ],
   "source": [
    "arr = ['Darshan' , 'University' , 'Rajkot']\n",
    "ans = \" \".join(arr)\n",
    "print(ans)"
   ]
  },
  {
   "cell_type": "markdown",
   "metadata": {},
   "source": [
    "### 09) Check if the password and confirm password is same or not. \n",
    "### In case of only case's mistake, show the error message."
   ]
  },
  {
   "cell_type": "code",
   "execution_count": 19,
   "metadata": {},
   "outputs": [
    {
     "name": "stdin",
     "output_type": "stream",
     "text": [
      "Enter your password:  neel\n",
      "Confirm your password:  neel \n"
     ]
    },
    {
     "name": "stdout",
     "output_type": "stream",
     "text": [
      "Error: Passwords do not match.\n"
     ]
    }
   ],
   "source": [
    "password = input(\"Enter your password: \")\n",
    "confirmPass = input(\"Confirm your password: \")\n",
    "\n",
    "if password == confirmPass:\n",
    "    print(\"Password confirmed successfully!\")\n",
    "else:\n",
    "    if password.lower() == confirmPass.lower():\n",
    "        print(\"Error: Passwords do not match due to case sensitivity.\")\n",
    "    else:\n",
    "        print(\"Error: Passwords do not match.\")"
   ]
  },
  {
   "cell_type": "markdown",
   "metadata": {},
   "source": [
    "### 10) : Display credit card number. \n",
    "### card no. : 1234 5678 9012 3456\n",
    "### display as  : **** **** **** 3456"
   ]
  },
  {
   "cell_type": "code",
   "execution_count": 22,
   "metadata": {},
   "outputs": [
    {
     "name": "stdout",
     "output_type": "stream",
     "text": [
      "Displayed card number: **** **** **** 3456\n"
     ]
    }
   ],
   "source": [
    "card_number = \"1234 5678 9012 3456\"\n",
    "\n",
    "masked_card_number = \"**** **** **** \" + card_number[-4:]\n",
    "\n",
    "print(\"Displayed card number:\", masked_card_number)"
   ]
  },
  {
   "cell_type": "markdown",
   "metadata": {},
   "source": [
    "### 11) : Checking if the two strings are Anagram or not.\n",
    "### s1 = decimal and s2 = medical are Anagram"
   ]
  },
  {
   "cell_type": "code",
   "execution_count": 25,
   "metadata": {},
   "outputs": [
    {
     "name": "stdout",
     "output_type": "stream",
     "text": [
      "decimal and medical are anagrams.\n"
     ]
    }
   ],
   "source": [
    "s1 = \"decimal\"\n",
    "s2 = \"medical\"\n",
    "\n",
    "if len(s1) == len(s2):\n",
    "    if sorted(s1) == sorted(s2):\n",
    "        print(f\"{s1} and {s2} are anagrams.\")\n",
    "    else:\n",
    "        print(f\"{s1} and {s2} are not anagrams.\")\n",
    "else:\n",
    "    print(f\"{s1} and {s2} are not anagrams.\")\n"
   ]
  },
  {
   "cell_type": "markdown",
   "metadata": {},
   "source": [
    "### 12) : Rearrange the given string. First lowercase then uppercase alphabets.\n",
    "### input : EHlsarwiwhtwMV\n",
    "### output : lsarwiwhtwEHMV"
   ]
  },
  {
   "cell_type": "code",
   "execution_count": 26,
   "metadata": {},
   "outputs": [
    {
     "name": "stdout",
     "output_type": "stream",
     "text": [
      "Rearranged string: lsarwiwhtwEHMV\n"
     ]
    }
   ],
   "source": [
    "input_string = \"EHlsarwiwhtwMV\"\n",
    "\n",
    "lowercase_letters = [char for char in input_string if char.islower()]\n",
    "uppercase_letters = [char for char in input_string if char.isupper()]\n",
    "\n",
    "output_string = ''.join(lowercase_letters) + ''.join(uppercase_letters)\n",
    "\n",
    "print(\"Rearranged string:\", output_string)\n"
   ]
  }
 ],
 "metadata": {
  "kernelspec": {
   "display_name": "Python 3 (ipykernel)",
   "language": "python",
   "name": "python3"
  },
  "language_info": {
   "codemirror_mode": {
    "name": "ipython",
    "version": 3
   },
   "file_extension": ".py",
   "mimetype": "text/x-python",
   "name": "python",
   "nbconvert_exporter": "python",
   "pygments_lexer": "ipython3",
   "version": "3.13.0"
  },
  "vscode": {
   "interpreter": {
    "hash": "31f2aee4e71d21fbe5cf8b01ff0e069b9275f58929596ceb00d14d90e3e16cd6"
   }
  }
 },
 "nbformat": 4,
 "nbformat_minor": 4
}
