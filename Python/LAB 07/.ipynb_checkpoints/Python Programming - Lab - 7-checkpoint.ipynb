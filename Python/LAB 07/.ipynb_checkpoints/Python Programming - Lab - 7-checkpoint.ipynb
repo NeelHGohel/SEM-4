{
 "cells": [
  {
   "cell_type": "markdown",
   "metadata": {},
   "source": [
    "\n",
    "<a href='https://www.darshan.ac.in/'> <img src='https://www.darshan.ac.in/Content/media/DU_Logo.svg' width=\"250\" height=\"300\"/></a>\n",
    "<pre>\n",
    "<center><b><h1>Python Programming - 2301CS404</b></center>\n",
    "<center><b><h1>Gohel Neel</b></center>\n",
    "<center><b><h3>Enrollnment No. : 23010101089</b></center>\n",
    "<center><b><h3>Roll No. 340</b></center>\n",
    "<center><b><h3>Date: 06-01-2025</b></center>\n",
    "<center><b><h1>Lab - 7</b></center>    \n",
    "<pre>"
   ]
  },
  {
   "cell_type": "markdown",
   "metadata": {},
   "source": [
    "# Set & Dictionary"
   ]
  },
  {
   "cell_type": "markdown",
   "metadata": {},
   "source": [
    "### 01) WAP to iterate over a set."
   ]
  },
  {
   "cell_type": "code",
   "execution_count": 1,
   "metadata": {},
   "outputs": [
    {
     "name": "stdin",
     "output_type": "stream",
     "text": [
      "Enter number of Element  3\n",
      "Enter number  1\n",
      "Enter number  2\n",
      "Enter number  3\n"
     ]
    },
    {
     "name": "stdout",
     "output_type": "stream",
     "text": [
      "{1, 2, 3}\n",
      "{1, 4, 9}\n"
     ]
    }
   ],
   "source": [
    "s1 = set()\n",
    "n = int(input(\"Enter number of Element \"))\n",
    "for i in range(n):\n",
    "    x = int(input(\"Enter number \"))\n",
    "    s1.add(x)\n",
    "print(s1)\n",
    "s2 = {i**2 for i in s1}\n",
    "print(s2)"
   ]
  },
  {
   "cell_type": "markdown",
   "metadata": {},
   "source": [
    "### 02) WAP to convert set into list, string and tuple."
   ]
  },
  {
   "cell_type": "code",
   "execution_count": 2,
   "metadata": {},
   "outputs": [
    {
     "name": "stdin",
     "output_type": "stream",
     "text": [
      "Enter number of Element  5\n",
      "Enter number  1\n",
      "Enter number  2\n",
      "Enter number  34\n",
      "Enter number  5\n",
      "Enter number  6\n"
     ]
    },
    {
     "name": "stdout",
     "output_type": "stream",
     "text": [
      "{1, 2, 34, 5, 6}\n",
      "[1, 2, 34, 5, 6]\n",
      "<class 'list'>\n",
      "(1, 2, 34, 5, 6)\n",
      "<class 'tuple'>\n",
      "{1, 2, 34, 5, 6}\n",
      "<class 'str'>\n"
     ]
    }
   ],
   "source": [
    "s1 = set()\n",
    "n = int(input(\"Enter number of Element \"))\n",
    "for i in range(n):\n",
    "    x = int(input(\"Enter number \"))\n",
    "    s1.add(x)\n",
    "print(s1)\n",
    "\n",
    "l1 = list(s1)\n",
    "print(l1)\n",
    "print(type(l1))\n",
    "\n",
    "t1 = tuple(s1)\n",
    "print(t1)\n",
    "print(type(t1))\n",
    "\n",
    "str1 = str(s1)\n",
    "print(str1)\n",
    "print(type(str1))"
   ]
  },
  {
   "cell_type": "markdown",
   "metadata": {},
   "source": [
    "### 03) WAP to find Maximum and Minimum from a set."
   ]
  },
  {
   "cell_type": "code",
   "execution_count": 3,
   "metadata": {},
   "outputs": [
    {
     "name": "stdin",
     "output_type": "stream",
     "text": [
      "Enter number of Element  5\n",
      "Enter number  1\n",
      "Enter number  2\n",
      "Enter number  3\n",
      "Enter number  4\n",
      "Enter number  6\n"
     ]
    },
    {
     "name": "stdout",
     "output_type": "stream",
     "text": [
      "{1, 2, 3, 4, 6}\n",
      "Maximum element is  6\n",
      "Minimum element is  1\n"
     ]
    }
   ],
   "source": [
    "s1 = set()\n",
    "n = int(input(\"Enter number of Element \"))\n",
    "for i in range(n):\n",
    "    x = int(input(\"Enter number \"))\n",
    "    s1.add(x)\n",
    "print(s1)\n",
    "maximum = 0\n",
    "for i in s1:\n",
    "    if(i>maximum):\n",
    "        maximum = i\n",
    "print('Maximum element is ',maximum)\n",
    "minimum = maximum\n",
    "for i in s1:\n",
    "    if(i < minimum):\n",
    "        minimum = i\n",
    "print('Minimum element is ',minimum)"
   ]
  },
  {
   "cell_type": "markdown",
   "metadata": {},
   "source": [
    "### 04) WAP to perform union of two sets."
   ]
  },
  {
   "cell_type": "code",
   "execution_count": 4,
   "metadata": {},
   "outputs": [
    {
     "name": "stdin",
     "output_type": "stream",
     "text": [
      "Enter number of Element  1\n",
      "Enter number  1\n"
     ]
    },
    {
     "name": "stdout",
     "output_type": "stream",
     "text": [
      "{1}\n"
     ]
    },
    {
     "name": "stdin",
     "output_type": "stream",
     "text": [
      "Enter number of Element  2\n",
      "Enter number  1\n",
      "Enter number  2\n"
     ]
    },
    {
     "name": "stdout",
     "output_type": "stream",
     "text": [
      "{1, 2}\n",
      "Union of two set is  {1, 2}\n"
     ]
    }
   ],
   "source": [
    "s1 = set()\n",
    "n1 = int(input(\"Enter number of Element \"))\n",
    "for i in range(n1):\n",
    "    x1 = int(input(\"Enter number \"))\n",
    "    s1.add(x1)\n",
    "print(s1)\n",
    "\n",
    "s2 = set()\n",
    "n2 = int(input(\"Enter number of Element \"))\n",
    "for i in range(n2):\n",
    "    x2 = int(input(\"Enter number \"))\n",
    "    s2.add(x2)\n",
    "print(s2)\n",
    "\n",
    "print('Union of two set is ',s1.union(s2))"
   ]
  },
  {
   "cell_type": "markdown",
   "metadata": {},
   "source": [
    "### 05) WAP to check if two lists have at-least one element common."
   ]
  },
  {
   "cell_type": "code",
   "execution_count": 5,
   "metadata": {},
   "outputs": [
    {
     "name": "stdin",
     "output_type": "stream",
     "text": [
      "Enter number of Element  5\n",
      "Enter number  1\n",
      "Enter number  4\n",
      "Enter number  5\n",
      "Enter number  6\n",
      "Enter number  4\n"
     ]
    },
    {
     "name": "stdout",
     "output_type": "stream",
     "text": [
      "{1, 4, 5, 6}\n"
     ]
    },
    {
     "name": "stdin",
     "output_type": "stream",
     "text": [
      "Enter number of Element  5\n",
      "Enter number  4\n",
      "Enter number  7\n",
      "Enter number  8\n",
      "Enter number  9\n",
      "Enter number  6\n"
     ]
    },
    {
     "name": "stdout",
     "output_type": "stream",
     "text": [
      "{4, 6, 7, 8, 9}\n",
      "Intersection of two set is  {4, 6}\n"
     ]
    }
   ],
   "source": [
    "s1 = set()\n",
    "n1 = int(input(\"Enter number of Element \"))\n",
    "for i in range(n1):\n",
    "    x1 = int(input(\"Enter number \"))\n",
    "    s1.add(x1)\n",
    "print(s1)\n",
    "\n",
    "s2 = set()\n",
    "n2 = int(input(\"Enter number of Element \"))\n",
    "for i in range(n2):\n",
    "    x2 = int(input(\"Enter number \"))\n",
    "    s2.add(x2)\n",
    "print(s2)\n",
    "\n",
    "print('Intersection of two set is ',s1.intersection(s2))"
   ]
  },
  {
   "cell_type": "markdown",
   "metadata": {},
   "source": [
    "### 06) WAP to remove duplicates from list."
   ]
  },
  {
   "cell_type": "code",
   "execution_count": 6,
   "metadata": {},
   "outputs": [
    {
     "name": "stdin",
     "output_type": "stream",
     "text": [
      "Enter number of Element  2\n",
      "Enter number  1\n",
      "Enter number  1\n"
     ]
    },
    {
     "name": "stdout",
     "output_type": "stream",
     "text": [
      "[1, 1]\n",
      "{1}\n"
     ]
    }
   ],
   "source": [
    "l1 = []\n",
    "n1 = int(input(\"Enter number of Element \"))\n",
    "for i in range(n1):\n",
    "    x1 = int(input(\"Enter number \"))\n",
    "    l1.append(x1)\n",
    "print(l1)\n",
    "\n",
    "s1 = set(l1)\n",
    "print(s1)\n"
   ]
  },
  {
   "cell_type": "markdown",
   "metadata": {},
   "source": [
    "### 07) WAP to find unique words in the given string."
   ]
  },
  {
   "cell_type": "code",
   "execution_count": 8,
   "metadata": {},
   "outputs": [
    {
     "name": "stdin",
     "output_type": "stream",
     "text": [
      "Enter a String  neel neel neel\n"
     ]
    },
    {
     "name": "stdout",
     "output_type": "stream",
     "text": [
      "['neel']\n"
     ]
    }
   ],
   "source": [
    "str1 = input(\"Enter a String \")\n",
    "\n",
    "words = str1.split()\n",
    "\n",
    "ans = []\n",
    "\n",
    "for word in words:\n",
    "    if word not in ans:\n",
    "        ans.append(word)\n",
    "print(ans)"
   ]
  },
  {
   "cell_type": "markdown",
   "metadata": {},
   "source": [
    "### 08) WAP to remove common elements of set A & B from set A."
   ]
  },
  {
   "cell_type": "code",
   "execution_count": 9,
   "metadata": {},
   "outputs": [
    {
     "name": "stdin",
     "output_type": "stream",
     "text": [
      "Enter number of Element  5\n",
      "Enter number  1\n",
      "Enter number  2\n",
      "Enter number  3\n",
      "Enter number  4\n",
      "Enter number  5\n"
     ]
    },
    {
     "name": "stdout",
     "output_type": "stream",
     "text": [
      "{1, 2, 3, 4, 5}\n"
     ]
    },
    {
     "name": "stdin",
     "output_type": "stream",
     "text": [
      "Enter number of Element  5\n",
      "Enter number  5\n",
      "Enter number  4\n",
      "Enter number  16\n",
      "Enter number  9\n",
      "Enter number  5\n"
     ]
    },
    {
     "name": "stdout",
     "output_type": "stream",
     "text": [
      "{16, 9, 4, 5}\n",
      "{4, 5}\n",
      "{1, 2, 3}\n"
     ]
    }
   ],
   "source": [
    "s1 = set()\n",
    "n1 = int(input(\"Enter number of Element \"))\n",
    "for i in range(n1):\n",
    "    x1 = int(input(\"Enter number \"))\n",
    "    s1.add(x1)\n",
    "print(s1)\n",
    "\n",
    "s2 = set()\n",
    "n2 = int(input(\"Enter number of Element \"))\n",
    "for i in range(n2):\n",
    "    x2 = int(input(\"Enter number \"))\n",
    "    s2.add(x2)\n",
    "print(s2)\n",
    "\n",
    "s3 = s1.intersection(s2)\n",
    "print(s3)\n",
    "\n",
    "ans = s1.difference(s3)\n",
    "print(ans)\n"
   ]
  },
  {
   "cell_type": "markdown",
   "metadata": {},
   "source": [
    "### 09) WAP to check whether two given strings are anagram or not using set."
   ]
  },
  {
   "cell_type": "code",
   "execution_count": 11,
   "metadata": {},
   "outputs": [
    {
     "name": "stdin",
     "output_type": "stream",
     "text": [
      "Enter a String  neel\n",
      "Enter a String  leen\n"
     ]
    },
    {
     "name": "stdout",
     "output_type": "stream",
     "text": [
      "Anagram\n"
     ]
    }
   ],
   "source": [
    "# s1 = input(\"Enter a String \")\n",
    "# s2 = input(\"Enter a String \")\n",
    "\n",
    "# if set(s1) == set(s2) and len(s1) == len(s2):\n",
    "#     print(\"Anagram\")\n",
    "# else:\n",
    "#     print(\"not anagram\")\n",
    "\n",
    "str1 = input(\"Enter a String \")\n",
    "str2 = input(\"Enter a String \")\n",
    "\n",
    "if len(str1) != len(str2):\n",
    "    print(\"Not Anagram\")\n",
    "else:\n",
    "    dict1 = {}\n",
    "    for char in str1:\n",
    "        dict1[char] = dict1.get(char, 0) + 1\n",
    "    \n",
    "    dict2 = {}\n",
    "    for char in str2:\n",
    "        dict2[char] = dict2.get(char, 0) + 1\n",
    "    \n",
    "    if dict1 == dict2:\n",
    "        print(\"Anagram\")\n",
    "    else:\n",
    "        print(\"Not Anagram\")\n"
   ]
  },
  {
   "cell_type": "markdown",
   "metadata": {},
   "source": [
    "### 10) WAP to find common elements in three lists using set."
   ]
  },
  {
   "cell_type": "code",
   "execution_count": 12,
   "metadata": {},
   "outputs": [
    {
     "name": "stdout",
     "output_type": "stream",
     "text": [
      "{1}\n"
     ]
    }
   ],
   "source": [
    "s1 = {1,2,3,4,5}\n",
    "s2 = {1,2}\n",
    "s3 = {4,1}\n",
    "\n",
    "print(s1.intersection(s2,s3))"
   ]
  },
  {
   "cell_type": "markdown",
   "metadata": {},
   "source": [
    "### 11) WAP to count number of vowels in given string using set."
   ]
  },
  {
   "cell_type": "code",
   "execution_count": 13,
   "metadata": {},
   "outputs": [
    {
     "name": "stdin",
     "output_type": "stream",
     "text": [
      "Enter a String  neel\n"
     ]
    },
    {
     "name": "stdout",
     "output_type": "stream",
     "text": [
      "Number of vowel is 2\n"
     ]
    }
   ],
   "source": [
    "str1 = input(\"Enter a String \")\n",
    "count = 0\n",
    "for i in str1:\n",
    "    if i in set('aeiouAEIOU'):\n",
    "        count+=1\n",
    "print('Number of vowel is' , count)"
   ]
  },
  {
   "cell_type": "markdown",
   "metadata": {},
   "source": [
    "### 12) WAP to check if a given string is binary string or not."
   ]
  },
  {
   "cell_type": "code",
   "execution_count": 14,
   "metadata": {},
   "outputs": [
    {
     "name": "stdin",
     "output_type": "stream",
     "text": [
      "Enter a String  0110\n"
     ]
    },
    {
     "name": "stdout",
     "output_type": "stream",
     "text": [
      "yes 0110 is binary string\n"
     ]
    }
   ],
   "source": [
    "str1 = input(\"Enter a String \")\n",
    "length = len(str1)\n",
    "count = 0\n",
    "\n",
    "for i in str1:\n",
    "    if i in set('01'):\n",
    "        count+=1\n",
    "if count == length:\n",
    "    print(\"yes\",str1, \"is binary string\")\n",
    "else:\n",
    "    print(\"No\",str1, \"is not binary string\")\n"
   ]
  },
  {
   "cell_type": "markdown",
   "metadata": {},
   "source": [
    "### 13) WAP to sort dictionary by key or value."
   ]
  },
  {
   "cell_type": "code",
   "execution_count": 15,
   "metadata": {},
   "outputs": [
    {
     "name": "stdout",
     "output_type": "stream",
     "text": [
      "{3: 'shubham', 5: 'neel'}\n"
     ]
    }
   ],
   "source": [
    "d1 = {5 : 'neel' , 3 : 'shubham'}\n",
    "sort = {i : d1[i] for i in sorted(d1)}\n",
    "print(sort)"
   ]
  },
  {
   "cell_type": "markdown",
   "metadata": {},
   "source": [
    "### 14) WAP to find the sum of all items (values) in a dictionary given by user. (Assume: values are numeric)"
   ]
  },
  {
   "cell_type": "code",
   "execution_count": 16,
   "metadata": {},
   "outputs": [
    {
     "name": "stdin",
     "output_type": "stream",
     "text": [
      "Enter number  2\n",
      "Enter number  3\n",
      "Enter number  4\n",
      "Enter number  5\n",
      "Enter number  6\n"
     ]
    },
    {
     "name": "stdout",
     "output_type": "stream",
     "text": [
      "{0: 2, 1: 3, 2: 4, 3: 5, 4: 6}\n",
      "20\n"
     ]
    }
   ],
   "source": [
    "d1 = dict()\n",
    "sum = 0\n",
    "for i in range(5):\n",
    "    temp = int(input(\"Enter number \"))\n",
    "    d1[i] = temp\n",
    "print(d1)\n",
    "\n",
    "l1 = d1.values()\n",
    "for i in l1:\n",
    "    sum += i\n",
    "print(sum)"
   ]
  },
  {
   "cell_type": "markdown",
   "metadata": {},
   "source": [
    "### 15) WAP to handle missing keys in dictionaries.\n",
    "#### Example : Given, dict1 = {'a': 5, 'c': 8, 'e': 2} \n",
    "#### if you look for key = 'd', the message given should be 'Key Not Found', otherwise print the value of 'd' in dict1."
   ]
  },
  {
   "cell_type": "code",
   "execution_count": 18,
   "metadata": {},
   "outputs": [
    {
     "name": "stdin",
     "output_type": "stream",
     "text": [
      "Enter key  a\n"
     ]
    },
    {
     "name": "stdout",
     "output_type": "stream",
     "text": [
      "5\n"
     ]
    }
   ],
   "source": [
    "dict1 = {'a': 5, 'c': 8, 'e': 2}\n",
    "key = input(\"Enter key \")\n",
    "\n",
    "if key in dict1:\n",
    "    print(dict1[key])\n",
    "else:\n",
    "    print(\"Key Not Found\")\n"
   ]
  }
 ],
 "metadata": {
  "kernelspec": {
   "display_name": "Python 3 (ipykernel)",
   "language": "python",
   "name": "python3"
  },
  "language_info": {
   "codemirror_mode": {
    "name": "ipython",
    "version": 3
   },
   "file_extension": ".py",
   "mimetype": "text/x-python",
   "name": "python",
   "nbconvert_exporter": "python",
   "pygments_lexer": "ipython3",
   "version": "3.13.0"
  }
 },
 "nbformat": 4,
 "nbformat_minor": 4
}
