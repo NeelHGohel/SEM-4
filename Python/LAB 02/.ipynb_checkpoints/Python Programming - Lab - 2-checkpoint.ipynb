{
 "cells": [
  {
   "cell_type": "markdown",
   "metadata": {},
   "source": [
    "\n",
    "<a href='https://www.darshan.ac.in/'> <img src='https://www.darshan.ac.in/Content/media/DU_Logo.svg' width=\"250\" height=\"300\"/></a>\n",
    "<pre>\n",
    "<center><b><h1>Python Programming - 2301CS404</b></center>\n",
    "<center><b><h1>Gohel Neel</b></center>\n",
    "<center><b><h3>Enrollnment No. : 23010101089</b></center>\n",
    "<center><b><h3>Roll No. 340</b></center>\n",
    "<center><b><h3>Date: 02-12-2024</b></center>\n",
    "<center><b><h3>Lab-2</b></center>\n",
    "    \n",
    "<pre>"
   ]
  },
  {
   "cell_type": "markdown",
   "metadata": {},
   "source": [
    "# if..else.."
   ]
  },
  {
   "cell_type": "markdown",
   "metadata": {},
   "source": [
    "### 01) WAP to check whether the given number is positive or negative."
   ]
  },
  {
   "cell_type": "code",
   "execution_count": 3,
   "metadata": {},
   "outputs": [
    {
     "name": "stdin",
     "output_type": "stream",
     "text": [
      "Enter Number -10\n"
     ]
    },
    {
     "name": "stdout",
     "output_type": "stream",
     "text": [
      "Number is Negative\n"
     ]
    }
   ],
   "source": [
    "num = float(input('Enter Number'))\n",
    "if(num > 0):\n",
    "    print('Number is positive')\n",
    "else:\n",
    "    print('Number is Negative')"
   ]
  },
  {
   "cell_type": "markdown",
   "metadata": {},
   "source": [
    "### 02) WAP to check whether the given number is odd or even."
   ]
  },
  {
   "cell_type": "code",
   "execution_count": 5,
   "metadata": {},
   "outputs": [
    {
     "name": "stdin",
     "output_type": "stream",
     "text": [
      "Enter Number 3\n"
     ]
    },
    {
     "name": "stdout",
     "output_type": "stream",
     "text": [
      "Number is Odd\n"
     ]
    }
   ],
   "source": [
    "num = float(input('Enter Number'))\n",
    "if(num % 2 == 0):\n",
    "    print('Number is Even')\n",
    "else:\n",
    "    print('Number is Odd')"
   ]
  },
  {
   "cell_type": "markdown",
   "metadata": {},
   "source": [
    "### 03) WAP to find out largest number from given two numbers using simple if and ternary operator."
   ]
  },
  {
   "cell_type": "code",
   "execution_count": 7,
   "metadata": {},
   "outputs": [
    {
     "name": "stdin",
     "output_type": "stream",
     "text": [
      "Enter Number 20\n",
      "Enter Number 10\n"
     ]
    },
    {
     "name": "stdout",
     "output_type": "stream",
     "text": [
      "num1 is largest\n"
     ]
    }
   ],
   "source": [
    "num1 = float(input('Enter Number'))\n",
    "num2 = float(input('Enter Number'))\n",
    "print('num1 is largest') if num1 > num2 else print('Num2 is Largest')"
   ]
  },
  {
   "cell_type": "markdown",
   "metadata": {},
   "source": [
    "### 04) WAP to find out largest number from given three numbers."
   ]
  },
  {
   "cell_type": "code",
   "execution_count": 10,
   "metadata": {},
   "outputs": [
    {
     "name": "stdin",
     "output_type": "stream",
     "text": [
      "Enter Number 100\n",
      "Enter Number 10\n",
      "Enter Number 20\n"
     ]
    },
    {
     "name": "stdout",
     "output_type": "stream",
     "text": [
      "Num1 is largest\n"
     ]
    }
   ],
   "source": [
    "num1 = float(input('Enter Number'))\n",
    "num2 = float(input('Enter Number'))\n",
    "num3 = float(input('Enter Number'))\n",
    "if (num1 > num2 and num1 > num3):\n",
    "    print('Num1 is largest')\n",
    "elif (num2 > num1 and num2 > num3):\n",
    "    print('Num2 is largest')\n",
    "else:\n",
    "    print('Num3 is largest')"
   ]
  },
  {
   "cell_type": "markdown",
   "metadata": {},
   "source": [
    "### 05) WAP to check whether the given year is leap year or not.\n",
    "[If a year can be divisible by 4 but not divisible by 100 then it is leap year but if it is divisible by 400 then it is leap year]"
   ]
  },
  {
   "cell_type": "code",
   "execution_count": 13,
   "metadata": {},
   "outputs": [
    {
     "name": "stdin",
     "output_type": "stream",
     "text": [
      "Enter Year 2021\n"
     ]
    },
    {
     "name": "stdout",
     "output_type": "stream",
     "text": [
      "Not Leap year\n"
     ]
    }
   ],
   "source": [
    "year = int(input('Enter Year'))\n",
    "if (year % 4 == 0 and year % 100 != 0 or year % 400 == 0 ):\n",
    "    print('Leap year')\n",
    "else:\n",
    "    print('Not Leap year')"
   ]
  },
  {
   "cell_type": "markdown",
   "metadata": {},
   "source": [
    "### 06) WAP in python to display the name of the day according to the number given by the user."
   ]
  },
  {
   "cell_type": "markdown",
   "metadata": {},
   "source": [
    "### 07) WAP to implement simple calculator which performs (add,sub,mul,div) of two no. based on user input."
   ]
  },
  {
   "cell_type": "code",
   "execution_count": 28,
   "metadata": {},
   "outputs": [
    {
     "name": "stdin",
     "output_type": "stream",
     "text": [
      "Enter oprator /\n",
      "Enter number 1 10\n",
      "Enter number 2 0\n"
     ]
    },
    {
     "name": "stdout",
     "output_type": "stream",
     "text": [
      "Not possible\n"
     ]
    }
   ],
   "source": [
    "op = input(\"Enter oprator\")\n",
    "num1 = int(input(\"Enter number 1\"))\n",
    "num2 = int(input(\"Enter number 2\"))\n",
    "if (op == '+'):\n",
    "    ans = int(num1+num2)\n",
    "    print(ans)\n",
    "elif (op == '-'):\n",
    "    ans = int(num1 - num2)\n",
    "    print(ans)\n",
    "elif (op == '*'):\n",
    "    ans = int(num1 * num2)\n",
    "    print(ans)\n",
    "elif (op == '/'):\n",
    "    if(num2 == 0):\n",
    "        print('Not possible')\n",
    "    else:\n",
    "        ans = num1 / num2\n",
    "        print(ans)\n",
    "else:\n",
    "    print(\"Invalid oprator\")"
   ]
  },
  {
   "cell_type": "markdown",
   "metadata": {},
   "source": [
    "### 08) WAP to read marks of five subjects. Calculate percentage and print class accordingly. \n",
    "Fail below 35 </br>\n",
    "Pass Class between 35 to 45 </br>\n",
    "Second Class</br>\n",
    "between 45 to 60</br>\n",
    "First Class between 60 to 70</br> \n",
    "Distinction if more than 70"
   ]
  },
  {
   "cell_type": "code",
   "execution_count": 32,
   "metadata": {},
   "outputs": [
    {
     "name": "stdin",
     "output_type": "stream",
     "text": [
      "Enter marks 1 20\n",
      "Enter marks 2 40\n",
      "Enter marks 3 50\n",
      "Enter marks 4 30\n",
      "Enter marks 5 10\n"
     ]
    },
    {
     "name": "stdout",
     "output_type": "stream",
     "text": [
      "Fail\n"
     ]
    }
   ],
   "source": [
    "num1 = int(input(\"Enter marks 1\"))\n",
    "num2 = int(input(\"Enter marks 2\"))\n",
    "num3 = int(input(\"Enter marks 3\"))\n",
    "num4 = int(input(\"Enter marks 4\"))\n",
    "num5 = int(input(\"Enter marks 5\"))\n",
    "total = num1+num2+num3+num4+num5\n",
    "per = (total/500) * 100\n",
    "if per < 35:\n",
    "    print(\"Fail\")\n",
    "elif per < 45 and per > 35:\n",
    "    print(\"pass\")\n",
    "elif per > 45 and per < 60:\n",
    "    print(\"Second class\")\n",
    "elif per > 60 and per < 70:\n",
    "    print(\"First class\")\n",
    "else:\n",
    "    print(\"Distinction\")"
   ]
  },
  {
   "cell_type": "markdown",
   "metadata": {},
   "source": [
    "### 09) Three sides of a triangle are entered through the keyboard, WAP to check whether the triangle is isosceles, equilateral, scalene or right-angled triangle."
   ]
  },
  {
   "cell_type": "code",
   "execution_count": 2,
   "metadata": {},
   "outputs": [
    {
     "name": "stdin",
     "output_type": "stream",
     "text": [
      "Enter Number  10\n",
      "Enter Number  10\n",
      "Enter Number  10\n"
     ]
    },
    {
     "name": "stdout",
     "output_type": "stream",
     "text": [
      "Triangle is Equilateral\n"
     ]
    }
   ],
   "source": [
    "a = float(input(\"Enter Number \"))\n",
    "b = float(input(\"Enter Number \"))\n",
    "c = float(input(\"Enter Number \"))\n",
    "if(a==b and a == c):\n",
    " print(\"Triangle is Equilateral\")\n",
    "elif(a==b or b == c or c==a):\n",
    " print(\"Triangel is isoceles\")\n",
    "elif((a*a+b*b)==(c*c) or (a*a+c*c)==(b*b) or (c*c+b*b)==(a*a)):\n",
    " print(\"Right Angled\")\n",
    "else :\n",
    " print(\"Scalene\")\n"
   ]
  },
  {
   "cell_type": "markdown",
   "metadata": {},
   "source": [
    "### 10) WAP to find the second largest number among three user input numbers."
   ]
  },
  {
   "cell_type": "code",
   "execution_count": 47,
   "metadata": {},
   "outputs": [
    {
     "name": "stdin",
     "output_type": "stream",
     "text": [
      "Enter Number 1 100\n",
      "Enter Number 2 100\n",
      "Enter Number 3 100\n"
     ]
    },
    {
     "name": "stdout",
     "output_type": "stream",
     "text": [
      "Num3 is second largest\n"
     ]
    }
   ],
   "source": [
    "num1 = float(input('Enter Number 1'))\n",
    "num2 = float(input('Enter Number 2'))\n",
    "num3 = float(input('Enter Number 3'))\n",
    "\n",
    "if num1 > num2 and num1 > num3 and num2 > num3:\n",
    "    print('Num2 is second largest')\n",
    "elif num2 > num1 and num2 > num3 and num1 > num3:\n",
    "    print('Num1 is second largest')\n",
    "else:\n",
    "    print('Num3 is second largest')"
   ]
  },
  {
   "cell_type": "markdown",
   "metadata": {},
   "source": [
    "### 11) WAP to calculate electricity bill based on following criteria. Which takes the unit from the user.\n",
    "a. First 1 to 50 units – Rs. 2.60/unit</br>\n",
    "b. Next 50 to 100 units – Rs. 3.25/unit</br>\n",
    "c. Next 100 to 200 units – Rs. 5.26/unit</br>\n",
    "d. above 200 units – Rs. 8.45/unit"
   ]
  },
  {
   "cell_type": "code",
   "execution_count": 3,
   "metadata": {},
   "outputs": [
    {
     "name": "stdin",
     "output_type": "stream",
     "text": [
      "Enter Number 1000\n"
     ]
    },
    {
     "name": "stdout",
     "output_type": "stream",
     "text": [
      "Bill is :  {7578.499999999999}\n"
     ]
    }
   ],
   "source": [
    "a = float(input(\"Enter Number\"))\n",
    "if(a>200):\n",
    " print(\"Bill is : \",{(50*2.6)+(50*3.25)+(100*5.26)+((a-200)*8.45)})\n",
    "elif(a>100 and a<200):\n",
    " print(\"Bill is : \",{(50*2.6)+(50*3.25)+((a-100)*5.26)})\n",
    "elif(a>50 and a<100):\n",
    " print(\"Bill is : \",{(50*2.6)+((a-50)*3.25)})\n",
    "else:\n",
    " print(\"Bill is : \",{(a-50)*2.6})\n"
   ]
  },
  {
   "cell_type": "code",
   "execution_count": null,
   "metadata": {},
   "outputs": [],
   "source": []
  }
 ],
 "metadata": {
  "kernelspec": {
   "display_name": "Python 3 (ipykernel)",
   "language": "python",
   "name": "python3"
  },
  "language_info": {
   "codemirror_mode": {
    "name": "ipython",
    "version": 3
   },
   "file_extension": ".py",
   "mimetype": "text/x-python",
   "name": "python",
   "nbconvert_exporter": "python",
   "pygments_lexer": "ipython3",
   "version": "3.13.0"
  }
 },
 "nbformat": 4,
 "nbformat_minor": 4
}
