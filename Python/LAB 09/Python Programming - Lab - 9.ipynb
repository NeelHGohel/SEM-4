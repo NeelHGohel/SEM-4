{
 "cells": [
  {
   "cell_type": "markdown",
   "metadata": {},
   "source": [
    "<a href='https://www.darshan.ac.in/'> <img src='https://www.darshan.ac.in/Content/media/DU_Logo.svg' width=\"250\" height=\"300\"/></a>\n",
    "<pre>\n",
    "<center><b><h1>Python Programming - 2301CS404</b></center>\n",
    "<center><b><h1>Lab - 9</b></center>    \n",
    "<pre>"
   ]
  },
  {
   "cell_type": "markdown",
   "metadata": {},
   "source": [
    "# File I/O"
   ]
  },
  {
   "cell_type": "markdown",
   "metadata": {},
   "source": [
    "### 01) WAP to read and display the contents of a text file. (also try to open the file in some other directory) \n",
    "#### - in the form of a string\n",
    "#### - line by line\n",
    "#### - in the form of a list"
   ]
  },
  {
   "cell_type": "code",
   "execution_count": 1,
   "metadata": {},
   "outputs": [
    {
     "name": "stdout",
     "output_type": "stream",
     "text": [
      "hello from the file\n",
      "hello from the file['hello from the file']\n"
     ]
    }
   ],
   "source": [
    "file_path = 'file1.txt'\n",
    "\n",
    "with open(file_path, 'r') as file:\n",
    "    content = file.read()\n",
    "    print(content)\n",
    "\n",
    "with open(file_path, 'r') as file:\n",
    "    for line in file:\n",
    "        print(line, end='')\n",
    "\n",
    "with open(file_path, 'r') as file:\n",
    "    lines = file.readlines()\n",
    "    print(lines)\n"
   ]
  },
  {
   "cell_type": "markdown",
   "metadata": {},
   "source": [
    "### 02) WAP to create file named \"new.txt\" only if it doesn't exist."
   ]
  },
  {
   "cell_type": "code",
   "execution_count": 2,
   "metadata": {},
   "outputs": [],
   "source": [
    "fp = open(\"new.txt\",\"w\")  \n",
    "s1 = \"Hello form file write method\"      \n",
    "fp.write(s1)\n",
    "fp.close()"
   ]
  },
  {
   "cell_type": "markdown",
   "metadata": {},
   "source": [
    "### 03) WAP to read first 5 lines from the text file."
   ]
  },
  {
   "cell_type": "code",
   "execution_count": 3,
   "metadata": {},
   "outputs": [
    {
     "name": "stdout",
     "output_type": "stream",
     "text": [
      "hello from 1st line\n",
      "hello from 2nd line\n",
      "hello from 3rd line\n",
      "hello from 4th line\n",
      "hello from 5th line"
     ]
    }
   ],
   "source": [
    "with open('file1.txt', 'r') as file:\n",
    "    for i in range(5):\n",
    "        line = file.readline()\n",
    "        print(line, end='')"
   ]
  },
  {
   "cell_type": "markdown",
   "metadata": {},
   "source": [
    "### 04) WAP to find the longest word(s) in a file"
   ]
  },
  {
   "cell_type": "code",
   "execution_count": 4,
   "metadata": {},
   "outputs": [
    {
     "name": "stdout",
     "output_type": "stream",
     "text": [
      "['bsjbebrjbgjebtrjbwrjbjbtbj']\n"
     ]
    }
   ],
   "source": [
    "with open('file1.txt', 'r') as file:\n",
    "    words = file.read().split()\n",
    "    max_length = max(len(word) for word in words)\n",
    "    longest_words = [word for word in words if len(word) == max_length]\n",
    "\n",
    "print(longest_words)"
   ]
  },
  {
   "cell_type": "markdown",
   "metadata": {},
   "source": [
    "### 05) WAP to count the no. of lines, words and characters in a given text file."
   ]
  },
  {
   "cell_type": "code",
   "execution_count": 5,
   "metadata": {},
   "outputs": [
    {
     "name": "stdout",
     "output_type": "stream",
     "text": [
      "Lines: 7\n",
      "Words: 28\n",
      "Characters: 160\n"
     ]
    }
   ],
   "source": [
    "lines_count = 0\n",
    "words_count = 0\n",
    "chars_count = 0\n",
    "\n",
    "with open('file1.txt', 'r') as file:\n",
    "    for line in file:\n",
    "        lines_count += 1\n",
    "        words_count += len(line.split())\n",
    "        chars_count += len(line)\n",
    "\n",
    "print(f\"Lines: {lines_count}\")\n",
    "print(f\"Words: {words_count}\")\n",
    "print(f\"Characters: {chars_count}\")"
   ]
  },
  {
   "cell_type": "markdown",
   "metadata": {},
   "source": [
    "### 06) WAP to copy the content of a file to the another file."
   ]
  },
  {
   "cell_type": "code",
   "execution_count": 6,
   "metadata": {},
   "outputs": [],
   "source": [
    "with open('file1.txt', 'r') as source_file:\n",
    "    content = source_file.read()\n",
    "\n",
    "with open('newCopyFile.txt', 'w') as destination_file:\n",
    "    destination_file.write(content)"
   ]
  },
  {
   "cell_type": "markdown",
   "metadata": {},
   "source": [
    "### 07) WAP to find the size of the text file. "
   ]
  },
  {
   "cell_type": "code",
   "execution_count": 10,
   "metadata": {},
   "outputs": [
    {
     "name": "stdout",
     "output_type": "stream",
     "text": [
      "160\n"
     ]
    }
   ],
   "source": [
    "with open('file1.txt', 'r') as file:\n",
    "    data = file.read()\n",
    "    size = len(data)\n",
    "\n",
    "print(size)"
   ]
  },
  {
   "cell_type": "markdown",
   "metadata": {},
   "source": [
    "### 08) WAP to create an UDF named frequency to count occurances of the specific word in a given text file."
   ]
  },
  {
   "cell_type": "code",
   "execution_count": 14,
   "metadata": {},
   "outputs": [
    {
     "name": "stdout",
     "output_type": "stream",
     "text": [
      "The word 'hello' appears 5 times in the file.\n"
     ]
    }
   ],
   "source": [
    "def frequency(file_path, word_to_find):\n",
    "    count = 0\n",
    "    with open(file_path, 'r') as file:\n",
    "        for line in file:\n",
    "            count += line.lower().split().count(word_to_find.lower())\n",
    "    return count\n",
    "\n",
    "file_path = 'file1.txt'\n",
    "word_to_find = 'hello'\n",
    "\n",
    "word_count = frequency(file_path, word_to_find)\n",
    "print(f\"The word '{word_to_find}' appears {word_count} times in the file.\")\n"
   ]
  },
  {
   "cell_type": "markdown",
   "metadata": {},
   "source": [
    "### 09) WAP to get the score of five subjects from the user, store them in a file. Fetch those marks and find the highest score."
   ]
  },
  {
   "cell_type": "code",
   "execution_count": 15,
   "metadata": {},
   "outputs": [
    {
     "name": "stdin",
     "output_type": "stream",
     "text": [
      "Enter marks subject 1:  12\n",
      "Enter marks subject 2:  6526\n",
      "Enter marks subject 3:  261\n",
      "Enter marks subject 4:  6261\n",
      "Enter marks subject 5:  66161\n"
     ]
    },
    {
     "name": "stdout",
     "output_type": "stream",
     "text": [
      "The highest score is: 66161\n"
     ]
    }
   ],
   "source": [
    "file_path = 'marks.txt'\n",
    "\n",
    "scores = []\n",
    "for i in range(1, 6):\n",
    "    score = int(input(f\"Enter marks subject {i}: \"))\n",
    "    scores.append(score)\n",
    "\n",
    "with open(file_path, 'w') as file:\n",
    "    for score in scores:\n",
    "        file.write(f\"{score}\\n\")\n",
    "\n",
    "with open(file_path, 'r') as file:\n",
    "    scores_from_file = [int(line.strip()) for line in file]\n",
    "\n",
    "highest_score = max(scores_from_file)\n",
    "print(f\"The highest score is: {highest_score}\")\n"
   ]
  },
  {
   "cell_type": "markdown",
   "metadata": {},
   "source": [
    "### 10) WAP to write first 100 prime numbers to a file named primenumbers.txt \n",
    "(Note: each number should be in new line)"
   ]
  },
  {
   "cell_type": "code",
   "execution_count": 18,
   "metadata": {},
   "outputs": [],
   "source": [
    "def is_prime(num):\n",
    "    if num <= 1:\n",
    "        return False\n",
    "    for i in range(2, int(num ** 0.5) + 1):\n",
    "        if num % i == 0:\n",
    "            return False\n",
    "    return True\n",
    "\n",
    "file_path = 'primenumbers.txt'\n",
    "prime_numbers = []\n",
    "num = 2\n",
    "\n",
    "while len(prime_numbers) < 100:\n",
    "    if is_prime(num):\n",
    "        prime_numbers.append(num)\n",
    "    num += 1\n",
    "\n",
    "with open(file_path, 'w') as file:\n",
    "    for prime in prime_numbers:\n",
    "        file.write(f\"{prime}\\n\")\n"
   ]
  },
  {
   "cell_type": "markdown",
   "metadata": {},
   "source": [
    "### 11) WAP to merge two files and write it in a new file."
   ]
  },
  {
   "cell_type": "code",
   "execution_count": 19,
   "metadata": {},
   "outputs": [],
   "source": [
    "file1_path = 'new.txt'\n",
    "file2_path = 'newCopyFile.txt'\n",
    "merged_file_path = 'merged_file.txt'\n",
    "\n",
    "with open(file1_path, 'r') as file1, open(file2_path, 'r') as file2:\n",
    "    content1 = file1.read()\n",
    "    content2 = file2.read()\n",
    "\n",
    "with open(merged_file_path, 'w') as merged_file:\n",
    "    merged_file.write(content1)\n",
    "    merged_file.write(content2)\n"
   ]
  },
  {
   "cell_type": "markdown",
   "metadata": {},
   "source": [
    "### 12) WAP to replace word1 by word2 of a text file. Write the updated data to new file."
   ]
  },
  {
   "cell_type": "code",
   "execution_count": null,
   "metadata": {},
   "outputs": [],
   "source": [
    "file_path = 'new.txt'\n",
    "new_file_path = 'updated_file.txt'\n",
    "word1 = ''\n",
    "word2 = 'newword'\n",
    "\n",
    "with open(file_path, 'r') as file:\n",
    "    content = file.read()\n",
    "\n",
    "updated_content = content.replace(word1, word2)\n",
    "\n",
    "with open(new_file_path, 'w') as new_file:\n",
    "    new_file.write(updated_content)\n"
   ]
  },
  {
   "cell_type": "markdown",
   "metadata": {},
   "source": [
    "### 13) Demonstrate tell() and seek() for all the cases(seek from beginning-end-current position) taking a suitable example of your choice."
   ]
  },
  {
   "cell_type": "code",
   "execution_count": null,
   "metadata": {},
   "outputs": [],
   "source": []
  }
 ],
 "metadata": {
  "kernelspec": {
   "display_name": "Python 3 (ipykernel)",
   "language": "python",
   "name": "python3"
  },
  "language_info": {
   "codemirror_mode": {
    "name": "ipython",
    "version": 3
   },
   "file_extension": ".py",
   "mimetype": "text/x-python",
   "name": "python",
   "nbconvert_exporter": "python",
   "pygments_lexer": "ipython3",
   "version": "3.13.0"
  }
 },
 "nbformat": 4,
 "nbformat_minor": 4
}
