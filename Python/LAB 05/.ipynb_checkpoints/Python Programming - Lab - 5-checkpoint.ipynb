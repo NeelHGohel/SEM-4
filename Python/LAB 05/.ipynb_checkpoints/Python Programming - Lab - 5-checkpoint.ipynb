{
 "cells": [
  {
   "cell_type": "markdown",
   "metadata": {},
   "source": [
    "\n",
    "<a href='https://www.darshan.ac.in/'> <img src='https://www.darshan.ac.in/Content/media/DU_Logo.svg' width=\"250\" height=\"300\"/></a>\n",
    "<pre>\n",
    "<center><b><h1>Python Programming - 2301CS404</b></center>\n",
    "<center><b><h1>Gohel Neel</b></center>\n",
    "<center><b><h3>Enrollnment No. : 23010101089</b></center>\n",
    "<center><b><h3>Roll No. 340</b></center>\n",
    "<center><b><h3>Date: 23-12-2024</b></center>\n",
    "<center><b><h1>Lab - 5</b></center>    \n",
    "<pre>"
   ]
  },
  {
   "cell_type": "markdown",
   "metadata": {},
   "source": [
    "# List"
   ]
  },
  {
   "cell_type": "markdown",
   "metadata": {},
   "source": [
    "### 01) WAP to find sum of all the elements in a List."
   ]
  },
  {
   "cell_type": "code",
   "execution_count": 1,
   "metadata": {},
   "outputs": [
    {
     "name": "stdout",
     "output_type": "stream",
     "text": [
      "15\n"
     ]
    }
   ],
   "source": [
    "l1 = [1,2,3,4,5]\n",
    "sum = 0\n",
    "for i in l1:\n",
    "    sum+=i\n",
    "print(sum)"
   ]
  },
  {
   "cell_type": "markdown",
   "metadata": {},
   "source": [
    "### 02) WAP to find largest element in a List."
   ]
  },
  {
   "cell_type": "code",
   "execution_count": 2,
   "metadata": {},
   "outputs": [
    {
     "name": "stdout",
     "output_type": "stream",
     "text": [
      "87\n"
     ]
    }
   ],
   "source": [
    "l1 = [1,20,15,87,3,4,5]\n",
    "max = l1[0]\n",
    "for i in l1:\n",
    "    if(i > max):\n",
    "        max = i\n",
    "print(max)"
   ]
  },
  {
   "cell_type": "markdown",
   "metadata": {},
   "source": [
    "### 03) WAP to find the length of a List."
   ]
  },
  {
   "cell_type": "code",
   "execution_count": 3,
   "metadata": {},
   "outputs": [
    {
     "name": "stdout",
     "output_type": "stream",
     "text": [
      "7\n"
     ]
    }
   ],
   "source": [
    "l1 = [1,20,15,87,3,4,5]\n",
    "print(len(l1))"
   ]
  },
  {
   "cell_type": "markdown",
   "metadata": {},
   "source": [
    "### 04) WAP to interchange first and last elements in a list."
   ]
  },
  {
   "cell_type": "code",
   "execution_count": 4,
   "metadata": {},
   "outputs": [
    {
     "name": "stdout",
     "output_type": "stream",
     "text": [
      "[5, 20, 15, 87, 3, 4, 1]\n"
     ]
    }
   ],
   "source": [
    "l1 = [1,20,15,87,3,4,5]\n",
    "first = l1[0]\n",
    "last = l1.pop()\n",
    "l1.append(first)\n",
    "l1[0] = last\n",
    "print(l1)"
   ]
  },
  {
   "cell_type": "markdown",
   "metadata": {},
   "source": [
    "### 05) WAP to split the List into two parts and append the first part to the end."
   ]
  },
  {
   "cell_type": "code",
   "execution_count": 6,
   "metadata": {},
   "outputs": [
    {
     "name": "stdout",
     "output_type": "stream",
     "text": [
      "[1, 2, 3, 4, 5]\n",
      "[6, 7, 8, 9, 10]\n",
      "[6, 7, 8, 9, 10, 1, 2, 3, 4, 5]\n"
     ]
    }
   ],
   "source": [
    "l1 = [1,2,3,4,5,6,7,8,9,10]\n",
    "n = int(len(l1)/2)\n",
    "\n",
    "firstpart = l1[:n]\n",
    "secondpart = l1[n:]\n",
    "\n",
    "print(firstpart)\n",
    "print(secondpart)\n",
    "\n",
    "secondpart.extend(firstpart)\n",
    "print(secondpart)"
   ]
  },
  {
   "cell_type": "markdown",
   "metadata": {},
   "source": [
    "### 06) WAP to interchange the elements on two positions entered by a user."
   ]
  },
  {
   "cell_type": "code",
   "execution_count": 7,
   "metadata": {},
   "outputs": [
    {
     "name": "stdin",
     "output_type": "stream",
     "text": [
      "Enter 1st position  1\n",
      "Enter 2st position  2\n"
     ]
    },
    {
     "name": "stdout",
     "output_type": "stream",
     "text": [
      "[1, 15, 20, 87, 3, 4, 5]\n"
     ]
    }
   ],
   "source": [
    "l1 = [1,20,15,87,3,4,5]\n",
    "\n",
    "n1 = int(input(\"Enter 1st position \"))\n",
    "n2 = int(input(\"Enter 2st position \"))\n",
    "\n",
    "temp = l1[n1]\n",
    "l1[n1] = l1[n2]\n",
    "l1[n2] = temp\n",
    "\n",
    "print(l1)"
   ]
  },
  {
   "cell_type": "markdown",
   "metadata": {},
   "source": [
    "### 07) WAP to reverse the list entered by user."
   ]
  },
  {
   "cell_type": "code",
   "execution_count": 8,
   "metadata": {},
   "outputs": [
    {
     "name": "stdin",
     "output_type": "stream",
     "text": [
      "Enter size of list  3\n",
      "Enter number  1\n",
      "Enter number  2\n",
      "Enter number  3\n"
     ]
    },
    {
     "name": "stdout",
     "output_type": "stream",
     "text": [
      "[3, 2, 1]\n"
     ]
    }
   ],
   "source": [
    "n1 = int(input(\"Enter size of list \"))\n",
    "l1 = []\n",
    "for i in range(0,n1):\n",
    "    l1.append(int(input(\"Enter number \")))\n",
    "l1.reverse()\n",
    "print(l1)"
   ]
  },
  {
   "cell_type": "markdown",
   "metadata": {},
   "source": [
    "### 08) WAP to print even numbers in a list."
   ]
  },
  {
   "cell_type": "code",
   "execution_count": 9,
   "metadata": {},
   "outputs": [
    {
     "name": "stdin",
     "output_type": "stream",
     "text": [
      "Enter size of list  5\n",
      "Enter number  1\n",
      "Enter number  2\n",
      "Enter number  3\n",
      "Enter number  4\n",
      "Enter number  5\n"
     ]
    },
    {
     "name": "stdout",
     "output_type": "stream",
     "text": [
      "[2, 4]\n"
     ]
    }
   ],
   "source": [
    "n1 = int(input(\"Enter size of list \"))\n",
    "l1 = []\n",
    "l2 = []\n",
    "for i in range(0,n1):\n",
    "    l1.append(int(input(\"Enter number \")))\n",
    "for i in l1:\n",
    "    if(i%2 == 0):\n",
    "        l2.append(i)\n",
    "print(l2)"
   ]
  },
  {
   "cell_type": "markdown",
   "metadata": {},
   "source": [
    "### 09) WAP to count unique items in a list."
   ]
  },
  {
   "cell_type": "code",
   "execution_count": 10,
   "metadata": {},
   "outputs": [
    {
     "name": "stdin",
     "output_type": "stream",
     "text": [
      "Enter size of list  5\n",
      "Enter number  1\n",
      "Enter number  2\n",
      "Enter number  3\n",
      "Enter number  4\n",
      "Enter number  5\n"
     ]
    },
    {
     "name": "stdout",
     "output_type": "stream",
     "text": [
      "5\n",
      "[1, 2, 3, 4, 5]\n"
     ]
    }
   ],
   "source": [
    "n1 = int(input(\"Enter size of list \"))\n",
    "l1 = []\n",
    "l2 = []\n",
    "count = 0\n",
    "for i in range(0,n1):\n",
    "    l1.append(int(input(\"Enter number \")))\n",
    "for i in l1:\n",
    "    if i not in l2:\n",
    "        l2.append(i)\n",
    "        count+=1\n",
    "print(count)\n",
    "print(l2)"
   ]
  },
  {
   "cell_type": "markdown",
   "metadata": {},
   "source": [
    "### 10) WAP to copy a list."
   ]
  },
  {
   "cell_type": "code",
   "execution_count": 11,
   "metadata": {},
   "outputs": [
    {
     "name": "stdin",
     "output_type": "stream",
     "text": [
      "Enter size of list  5\n",
      "Enter number  4\n",
      "Enter number  4\n",
      "Enter number  4\n",
      "Enter number  4\n",
      "Enter number  4\n"
     ]
    },
    {
     "name": "stdout",
     "output_type": "stream",
     "text": [
      "[4, 4, 4, 4, 4]\n"
     ]
    }
   ],
   "source": [
    "n1 = int(input(\"Enter size of list \"))\n",
    "l1 = []\n",
    "l2 = []\n",
    "for i in range(0,n1):\n",
    "    l1.append(int(input(\"Enter number \")))\n",
    "for i in l1:\n",
    "    l2.append(i)\n",
    "print(l2)"
   ]
  },
  {
   "cell_type": "markdown",
   "metadata": {},
   "source": [
    "### 11) WAP to print all odd numbers in a given range."
   ]
  },
  {
   "cell_type": "code",
   "execution_count": 12,
   "metadata": {},
   "outputs": [
    {
     "name": "stdin",
     "output_type": "stream",
     "text": [
      "Enter size of list  5\n",
      "Enter number  1\n",
      "Enter number  2\n",
      "Enter number  3\n",
      "Enter number  4\n",
      "Enter number  5\n",
      "Enter range  4\n"
     ]
    },
    {
     "name": "stdout",
     "output_type": "stream",
     "text": [
      "[1, 3]\n"
     ]
    }
   ],
   "source": [
    "n1 = int(input(\"Enter size of list \"))\n",
    "l1 = []\n",
    "l2 = []\n",
    "for i in range(0,n1):\n",
    "    l1.append(int(input(\"Enter number \")))\n",
    "ran = int(input(\"Enter range \"))\n",
    "for i in range(0,ran):\n",
    "    if(l1[i]%2 != 0):\n",
    "        l2.append(l1[i])\n",
    "print(l2)"
   ]
  },
  {
   "cell_type": "markdown",
   "metadata": {},
   "source": [
    "### 12) WAP to count occurrences of an element in a list."
   ]
  },
  {
   "cell_type": "code",
   "execution_count": 13,
   "metadata": {},
   "outputs": [
    {
     "name": "stdin",
     "output_type": "stream",
     "text": [
      "Enter size of list  5\n",
      "Enter number  1\n",
      "Enter number  1\n",
      "Enter number  1\n",
      "Enter number  2\n",
      "Enter number  3\n",
      "Enter element to count  2\n"
     ]
    },
    {
     "name": "stdout",
     "output_type": "stream",
     "text": [
      "1\n"
     ]
    }
   ],
   "source": [
    "n1 = int(input(\"Enter size of list \"))\n",
    "l1 = []\n",
    "for i in range(0,n1):\n",
    "    l1.append(int(input(\"Enter number \")))\n",
    "ele = int(input(\"Enter element to count \"))\n",
    "count = l1.count(ele)\n",
    "print(count)"
   ]
  },
  {
   "cell_type": "markdown",
   "metadata": {},
   "source": [
    "### 13) WAP to find second largest number in a list."
   ]
  },
  {
   "cell_type": "code",
   "execution_count": 14,
   "metadata": {},
   "outputs": [
    {
     "name": "stdin",
     "output_type": "stream",
     "text": [
      "Enter size of list  5\n",
      "Enter number  1\n",
      "Enter number  2\n",
      "Enter number  3\n",
      "Enter number  4\n",
      "Enter number  5\n"
     ]
    },
    {
     "name": "stdout",
     "output_type": "stream",
     "text": [
      "4\n"
     ]
    }
   ],
   "source": [
    "n1 = int(input(\"Enter size of list \"))\n",
    "l1 = []\n",
    "for i in range(0,n1):\n",
    "    l1.append(int(input(\"Enter number \")))\n",
    "l1.sort()\n",
    "n = int(len(l1))\n",
    "print(l1[n-2])"
   ]
  },
  {
   "cell_type": "markdown",
   "metadata": {},
   "source": [
    "### 14) WAP to extract elements with frequency greater than K."
   ]
  },
  {
   "cell_type": "code",
   "execution_count": 16,
   "metadata": {},
   "outputs": [
    {
     "name": "stdout",
     "output_type": "stream",
     "text": [
      "Elements with frequency greater than 2 : [3, 4]\n"
     ]
    }
   ],
   "source": [
    "l1 = [1, 2, 2, 3, 3, 3, 4, 4, 4, 4, 5]\n",
    "k = 2\n",
    "\n",
    "freq = {}\n",
    "\n",
    "for num in l1:\n",
    "    if num in freq:\n",
    "        freq[num] += 1\n",
    "    else:\n",
    "        freq[num] = 1\n",
    "\n",
    "result = []\n",
    "\n",
    "for num, count in freq.items():\n",
    "    if count > k:\n",
    "        result.append(num)\n",
    "\n",
    "print(\"Elements with frequency greater than\", k, \":\", result)"
   ]
  },
  {
   "cell_type": "markdown",
   "metadata": {},
   "source": [
    "### 15) WAP to create a list of squared numbers from 0 to 9 with and without using List Comprehension."
   ]
  },
  {
   "cell_type": "code",
   "execution_count": 15,
   "metadata": {},
   "outputs": [
    {
     "name": "stdout",
     "output_type": "stream",
     "text": [
      "[0, 1, 4, 9, 16, 25, 36, 49, 64, 81]\n",
      "[0, 1, 4, 9, 16, 25, 36, 49, 64, 81]\n"
     ]
    }
   ],
   "source": [
    "l1 = [0,1,2,3,4,5,6,7,8,9]\n",
    "l2 = []\n",
    "for i in l1:\n",
    "    l2.append(i**2)\n",
    "print(l2)\n",
    "\n",
    "l3 = [i**2 for i in l1]\n",
    "print(l3)"
   ]
  },
  {
   "cell_type": "markdown",
   "metadata": {},
   "source": [
    "### 16) WAP to create a new list (fruit whose name starts with 'b') from the list of fruits given by user."
   ]
  },
  {
   "cell_type": "code",
   "execution_count": 19,
   "metadata": {},
   "outputs": [
    {
     "name": "stdin",
     "output_type": "stream",
     "text": [
      "Enter a list of fruits :  bb\n"
     ]
    },
    {
     "name": "stdout",
     "output_type": "stream",
     "text": [
      "Fruits starting with 'b': ['bb']\n"
     ]
    }
   ],
   "source": [
    "fruits = input(\"Enter a list of fruits : \").split()\n",
    "\n",
    "b_fruits = [fruit for fruit in fruits if fruit.lower().startswith('b')]\n",
    "\n",
    "print(\"Fruits starting with 'b':\", b_fruits)"
   ]
  },
  {
   "cell_type": "markdown",
   "metadata": {},
   "source": [
    "### 17) WAP to create a list of common elements from given two lists."
   ]
  },
  {
   "cell_type": "code",
   "execution_count": 18,
   "metadata": {},
   "outputs": [
    {
     "name": "stdin",
     "output_type": "stream",
     "text": [
      "Enter size of list 1  5\n",
      "Enter number  1\n",
      "Enter number  2\n",
      "Enter number  3\n",
      "Enter number  4\n",
      "Enter number  5\n",
      "Enter size of list 2  5\n",
      "Enter number  2\n",
      "Enter number  3\n",
      "Enter number  4\n",
      "Enter number  5\n",
      "Enter number  6\n"
     ]
    },
    {
     "name": "stdout",
     "output_type": "stream",
     "text": [
      "Common elements: [2, 3, 4, 5]\n"
     ]
    }
   ],
   "source": [
    "n1 = int(input(\"Enter size of list 1 \"))\n",
    "l1 = []\n",
    "for i in range(0,n1):\n",
    "    l1.append(int(input(\"Enter number \")))\n",
    "n2 = int(input(\"Enter size of list 2 \"))\n",
    "l2 = []\n",
    "for i in range(0,n2):\n",
    "    l2.append(int(input(\"Enter number \")))\n",
    "\n",
    "common_elements = [element for element in l1 if element in l2]\n",
    "\n",
    "print(\"Common elements:\", common_elements)"
   ]
  },
  {
   "cell_type": "code",
   "execution_count": null,
   "metadata": {},
   "outputs": [],
   "source": []
  }
 ],
 "metadata": {
  "kernelspec": {
   "display_name": "Python 3 (ipykernel)",
   "language": "python",
   "name": "python3"
  },
  "language_info": {
   "codemirror_mode": {
    "name": "ipython",
    "version": 3
   },
   "file_extension": ".py",
   "mimetype": "text/x-python",
   "name": "python",
   "nbconvert_exporter": "python",
   "pygments_lexer": "ipython3",
   "version": "3.13.0"
  }
 },
 "nbformat": 4,
 "nbformat_minor": 4
}
