{
 "cells": [
  {
   "cell_type": "markdown",
   "metadata": {},
   "source": [
    "\n",
    "<a href='https://www.darshan.ac.in/'> <img src='https://www.darshan.ac.in/Content/media/DU_Logo.svg' width=\"250\" height=\"300\"/></a>\n",
    "<pre>\n",
    "<center><b><h1>Python Programming - 2301CS404</b></center>\n",
    "<center><b><h1>Gohel Neel</b></center>\n",
    "<center><b><h3>Enrollnment No. : 23010101089</b></center>\n",
    "<center><b><h3>Roll No. 340</b></center>\n",
    "<center><b><h3>Date: 03-03-2025</b></center>\n",
    "<center><b><h1>Lab - 13_1</b></center>    \n",
    "<pre>"
   ]
  },
  {
   "cell_type": "markdown",
   "metadata": {},
   "source": [
    "# OOP"
   ]
  },
  {
   "cell_type": "markdown",
   "metadata": {},
   "source": [
    "### 01) Write a Program to create a class by name Students, and initialize attributes like name, age, and grade while creating an object."
   ]
  },
  {
   "cell_type": "code",
   "execution_count": 5,
   "metadata": {},
   "outputs": [
    {
     "name": "stdout",
     "output_type": "stream",
     "text": [
      "Neel\n",
      "20\n",
      "A\n",
      "DIET\n"
     ]
    }
   ],
   "source": [
    "class Student:\n",
    "    school = \"DIET\"\n",
    "    def __init__(self , name , age , grade):\n",
    "        self.name = name\n",
    "        self.age = age\n",
    "        self.grade = grade\n",
    "    def printStudent(self):\n",
    "        print(self.name)\n",
    "        print(self.age)\n",
    "        print(self.grade)\n",
    "stu1 = Student(\"Neel\" , \"20\" , \"A\")\n",
    "stu1.printStudent()\n",
    "print(Student.school)"
   ]
  },
  {
   "cell_type": "markdown",
   "metadata": {},
   "source": [
    "### 02) Create a class named Bank_Account with Account_No, User_Name, Email,Account_Type and Account_Balance data members. Also create a method GetAccountDetails() and DisplayAccountDetails(). Create main method to demonstrate the Bank_Account class."
   ]
  },
  {
   "cell_type": "code",
   "execution_count": 18,
   "metadata": {},
   "outputs": [
    {
     "name": "stdout",
     "output_type": "stream",
     "text": [
      "Enter account_No abc\n",
      "Enter user_name abc\n",
      "Enter email abc\n",
      "Enter account_type abc\n",
      "Enter account_balance abc\n",
      "Your account_No is abc\n",
      "Your user_name  abc\n",
      "Your email  abc\n",
      "Your account_type  abc\n",
      "Your account_balance  abc\n"
     ]
    }
   ],
   "source": [
    "class Bank_Account:\n",
    "    \n",
    "    def getAccountDetail(self):\n",
    "        self.account_No = input(\"Enter account_No \")\n",
    "        self.user_name = input(\"Enter user_name \")\n",
    "        self.email = input(\"Enter email \")\n",
    "        self.account_type = input(\"Enter account_type \")\n",
    "        self.account_balance = input(\"Enter account_balance \")\n",
    "    \n",
    "    def displayAccountDetail(self):\n",
    "        print(\"Your account_No is\" , self.account_No)\n",
    "        print(\"Your user_name \",self.user_name)\n",
    "        print(\"Your email \",self.email)\n",
    "        print(\"Your account_type \",self.account_type)\n",
    "        print(\"Your account_balance \",self.account_balance)\n",
    "B1 = Bank_Account()\n",
    "B1.getAccountDetail()\n",
    "B1.displayAccountDetail()"
   ]
  },
  {
   "cell_type": "markdown",
   "metadata": {},
   "source": [
    "### 03) WAP to create Circle class with area and perimeter function to find area and perimeter of circle."
   ]
  },
  {
   "cell_type": "code",
   "execution_count": 26,
   "metadata": {},
   "outputs": [
    {
     "name": "stdout",
     "output_type": "stream",
     "text": [
      "Enter Radius 5\n",
      "Area is  78.53981633974483\n",
      "Perimeter is  31.41592653589793\n"
     ]
    }
   ],
   "source": [
    "import math\n",
    "\n",
    "class Circle:\n",
    "    \n",
    "    def __init__(self):\n",
    "        self.r = int(input(\"Enter Radius \"))\n",
    "    def area(self):\n",
    "        area = math.pi * self.r * self.r\n",
    "        print(\"Area is \" ,area)\n",
    "    def perimeter(self):\n",
    "        peri = 2 * math.pi * self.r\n",
    "        print(\"Perimeter is \" ,peri)\n",
    "c1 = Circle()\n",
    "c1.area()\n",
    "c1.perimeter()"
   ]
  },
  {
   "cell_type": "markdown",
   "metadata": {},
   "source": [
    "### 04) Create a class for employees that includes attributes such as name, age, salary, and methods to update and display employee information."
   ]
  },
  {
   "cell_type": "code",
   "execution_count": 27,
   "metadata": {},
   "outputs": [
    {
     "name": "stdout",
     "output_type": "stream",
     "text": [
      "Enter name neel\n",
      "Enter Age 20\n",
      "Enter Salary 12345\n",
      "Employee name is  neel\n",
      "Employee age is  20\n",
      "Employee salary is  12345\n",
      "Enter Updated Name neeeeel\n",
      "Enter updated age 21\n",
      "Enter updated Salary 9876\n",
      "Employee name is  neeeeel\n",
      "Employee age is  21\n",
      "Employee salary is  9876\n"
     ]
    }
   ],
   "source": [
    "class Employee:\n",
    "    \n",
    "    def __init__(self):\n",
    "        self.name = input(\"Enter name \")\n",
    "        self.age = int(input(\"Enter Age \"))\n",
    "        self.salary = int(input(\"Enter Salary \"))\n",
    "    def updateEmployee(self):\n",
    "        n1 = input(\"Enter Updated Name \")\n",
    "        a1 = int(input(\"Enter updated age \"))\n",
    "        s1 = int(input(\"Enter updated Salary \"))\n",
    "        self.name = n1\n",
    "        self.age = a1\n",
    "        self.salary = s1\n",
    "    def display(self):\n",
    "        print(\"Employee name is \",self.name)\n",
    "        print(\"Employee age is \" ,self.age)\n",
    "        print(\"Employee salary is \",self.salary)\n",
    "e1 = Employee()\n",
    "e1.display()\n",
    "e1.updateEmployee()\n",
    "e1.display()"
   ]
  },
  {
   "cell_type": "markdown",
   "metadata": {},
   "source": [
    "### 05) Create a bank account class with methods to deposit, withdraw, and check balance."
   ]
  },
  {
   "cell_type": "code",
   "execution_count": 29,
   "metadata": {},
   "outputs": [
    {
     "name": "stdout",
     "output_type": "stream",
     "text": [
      "Enter user_name neel\n",
      "Enter account_balance 500\n",
      "Enter money to deposit 100\n",
      "Your account has  600\n",
      "Enter money to withdraw 200\n",
      "Your account has  400\n",
      "Your Money in bank is  400\n"
     ]
    }
   ],
   "source": [
    "class bank_account():\n",
    "    \n",
    "    def __init__(self):\n",
    "        self.user_name = input(\"Enter user_name \")\n",
    "        self.account_balance = int(input(\"Enter account_balance \"))\n",
    "        \n",
    "    def deposit(self):\n",
    "        money = int(input(\"Enter money to deposit \"))\n",
    "        self.account_balance+=money\n",
    "        print(\"Your account has \",self.account_balance)\n",
    "        \n",
    "    def withdraw(self):\n",
    "        money = int(input(\"Enter money to withdraw \"))\n",
    "        if(money >self.account_balance ):\n",
    "            print(\"Invalid Money\")\n",
    "        else:\n",
    "            self.account_balance-=money\n",
    "        print(\"Your account has \",self.account_balance)\n",
    "        \n",
    "        \n",
    "    def checkBalance(self):\n",
    "        print(\"Your Money in bank is \" ,self.account_balance)\n",
    "        \n",
    "user1 = bank_account()\n",
    "user1.deposit()\n",
    "user1.withdraw()\n",
    "user1.checkBalance()"
   ]
  },
  {
   "cell_type": "markdown",
   "metadata": {},
   "source": [
    "### 06) Create a class for managing inventory that includes attributes such as item name, price, quantity, and methods to add, remove, and update items."
   ]
  },
  {
   "cell_type": "code",
   "execution_count": null,
   "metadata": {},
   "outputs": [],
   "source": [
    "class managing_inventory():\n",
    "    \n",
    "    def __init__(self):\n",
    "        self.name = input(\"Enter name \")\n",
    "        self.price = int(input(\"Enter price \"))\n",
    "        self.quantity = int(input(\"Enter quantity \"))\n",
    "    def add(self):\n",
    "        add = int(input(\"Enter no of add items \"))\n",
    "        self.quantity += add\n",
    "        print(\"Updated \" ,self.quantity )"
   ]
  },
  {
   "cell_type": "markdown",
   "metadata": {},
   "source": [
    "### 07) Create a Class with instance attributes of your choice."
   ]
  },
  {
   "cell_type": "code",
   "execution_count": 3,
   "metadata": {},
   "outputs": [
    {
     "name": "stdout",
     "output_type": "stream",
     "text": [
      "Car Information:\n",
      "Make: Toyota\n",
      "Model: Century\n",
      "Year: 2021\n",
      "Color: Blue\n",
      "Car Information:\n",
      "Make: Honda\n",
      "Model: Civic\n",
      "Year: 2020\n",
      "Color: Red\n"
     ]
    }
   ],
   "source": [
    "class Car:\n",
    "    def __init__(self, make, model, year, color):\n",
    "        self.make = make\n",
    "        self.model = model\n",
    "        self.year = year\n",
    "        self.color = color\n",
    "\n",
    "    def display_car_info(self):\n",
    "        print(f\"Car Information:\")\n",
    "        print(f\"Make: {self.make}\")\n",
    "        print(f\"Model: {self.model}\")\n",
    "        print(f\"Year: {self.year}\")\n",
    "        print(f\"Color: {self.color}\")\n",
    "\n",
    "car1 = Car(\"Toyota\", \"Century\", 2021, \"Blue\")\n",
    "car1.display_car_info()\n",
    "car2 = Car(\"Honda\", \"Civic\", 2020, \"Red\")\n",
    "car2.display_car_info()"
   ]
  },
  {
   "cell_type": "markdown",
   "metadata": {},
   "source": [
    "### 08) Create one class student_kit\n",
    "#### Within the student_kit class create one class attribute principal name ( Mr ABC )\n",
    "#### Create one attendance method and take input as number of days.\n",
    "#### While creating student take input their name .\n",
    "#### Create one certificate for each student by taking input of number of days present in class."
   ]
  },
  {
   "cell_type": "code",
   "execution_count": 1,
   "metadata": {},
   "outputs": [
    {
     "name": "stdin",
     "output_type": "stream",
     "text": [
      "Enter the student's name:  neel\n",
      "Enter the number of days present in class:  28\n"
     ]
    },
    {
     "name": "stdout",
     "output_type": "stream",
     "text": [
      "Attendance recorded: 28 days\n",
      "Certificate of Attendance\n",
      "\n",
      "Principal: Mr ABC\n",
      "Student: neel\n",
      "Days Present: 28\n",
      "Status: Failed (Attendance is insufficient)\n"
     ]
    }
   ],
   "source": [
    "class StudentKit:\n",
    "    principal = \"Mr ABC\"\n",
    "    \n",
    "    def __init__(self, student_name):\n",
    "        self.student_name = student_name\n",
    "        self.attendance = 0\n",
    "\n",
    "    def record_attendance(self, days_present):\n",
    "        self.attendance = days_present\n",
    "        print(f\"Attendance recorded: {self.attendance} days\")\n",
    "\n",
    "    def generate_certificate(self):\n",
    "        if self.attendance >= 75:\n",
    "            print(f\"Certificate of Attendance\\n\")\n",
    "            print(f\"Principal: {StudentKit.principal}\")\n",
    "            print(f\"Student: {self.student_name}\")\n",
    "            print(f\"Days Present: {self.attendance}\")\n",
    "            print(f\"Status: Passed (Attendance is sufficient)\")\n",
    "        else:\n",
    "            print(f\"Certificate of Attendance\\n\")\n",
    "            print(f\"Principal: {StudentKit.principal}\")\n",
    "            print(f\"Student: {self.student_name}\")\n",
    "            print(f\"Days Present: {self.attendance}\")\n",
    "            print(f\"Status: Failed (Attendance is insufficient)\")\n",
    "\n",
    "student_name = input(\"Enter the student's name: \")\n",
    "student = StudentKit(student_name)\n",
    "days_present = int(input(\"Enter the number of days present in class: \"))\n",
    "student.record_attendance(days_present)\n",
    "student.generate_certificate()"
   ]
  },
  {
   "cell_type": "markdown",
   "metadata": {},
   "source": [
    "### 09) Define Time class with hour and minute as data member. Also define addition method to add two time objects."
   ]
  },
  {
   "cell_type": "code",
   "execution_count": 2,
   "metadata": {},
   "outputs": [
    {
     "name": "stdout",
     "output_type": "stream",
     "text": [
      "Time 1:\n",
      "2 hour(s) and 45 minute(s)\n",
      "Time 2:\n",
      "3 hour(s) and 30 minute(s)\n",
      "Total Time after adding:\n",
      "6 hour(s) and 15 minute(s)\n"
     ]
    }
   ],
   "source": [
    "class Time:\n",
    "    def __init__(self, hour=0, minute=0):\n",
    "        self.hour = hour\n",
    "        self.minute = minute\n",
    "\n",
    "    def add_time(self, other):\n",
    "        total_minutes = (self.hour * 60 + self.minute) + (other.hour * 60 + other.minute)\n",
    "        total_hour = total_minutes // 60\n",
    "        total_minute = total_minutes % 60\n",
    "        return Time(total_hour, total_minute)\n",
    "    \n",
    "    def display_time(self):\n",
    "        print(f\"{self.hour} hour(s) and {self.minute} minute(s)\")\n",
    "\n",
    "time1 = Time(2, 45)\n",
    "time2 = Time(3, 30)\n",
    "total_time = time1.add_time(time2)\n",
    "print(\"Time 1:\")\n",
    "time1.display_time()\n",
    "print(\"Time 2:\")\n",
    "time2.display_time()\n",
    "print(\"Total Time after adding:\")\n",
    "total_time.display_time()"
   ]
  },
  {
   "cell_type": "code",
   "execution_count": null,
   "metadata": {},
   "outputs": [],
   "source": []
  }
 ],
 "metadata": {
  "kernelspec": {
   "display_name": "Python 3 (ipykernel)",
   "language": "python",
   "name": "python3"
  },
  "language_info": {
   "codemirror_mode": {
    "name": "ipython",
    "version": 3
   },
   "file_extension": ".py",
   "mimetype": "text/x-python",
   "name": "python",
   "nbconvert_exporter": "python",
   "pygments_lexer": "ipython3",
   "version": "3.13.0"
  }
 },
 "nbformat": 4,
 "nbformat_minor": 4
}
