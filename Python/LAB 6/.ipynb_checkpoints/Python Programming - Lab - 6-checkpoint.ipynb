{
 "cells": [
  {
   "cell_type": "markdown",
   "metadata": {},
   "source": [
    "<a href='https://www.darshan.ac.in/'> <img src='https://www.darshan.ac.in/Content/media/DU_Logo.svg' width=\"250\" height=\"300\"/></a>\n",
    "<pre>\n",
    "<center><b><h1>Python Programming - 2301CS404</b></center>\n",
    "<center><b><h1>Lab - 6</b></center>    \n",
    "<pre>"
   ]
  },
  {
   "cell_type": "markdown",
   "metadata": {},
   "source": [
    "# Tuple"
   ]
  },
  {
   "cell_type": "markdown",
   "metadata": {},
   "source": [
    "### 01) WAP to find sum of tuple elements."
   ]
  },
  {
   "cell_type": "code",
   "execution_count": 4,
   "metadata": {},
   "outputs": [
    {
     "name": "stdout",
     "output_type": "stream",
     "text": [
      "23\n"
     ]
    }
   ],
   "source": [
    "t1 = ((1,2,2,3,4,5,6))\n",
    "sum = 0\n",
    "for i in t1 :\n",
    "    sum += i\n",
    "print(sum)"
   ]
  },
  {
   "cell_type": "markdown",
   "metadata": {},
   "source": [
    "### 02) WAP to find Maximum and Minimum K elements in a given tuple."
   ]
  },
  {
   "cell_type": "code",
   "execution_count": 45,
   "metadata": {},
   "outputs": [
    {
     "name": "stdout",
     "output_type": "stream",
     "text": [
      "Enter k 3\n",
      "[15, 21, 26]\n",
      "[1, 2, 3]\n"
     ]
    }
   ],
   "source": [
    "t1 = (15,1,2,1,2,3,26,21,3,4,5,6)\n",
    "k = int(input(\"Enter k \"))\n",
    "s = {i for i in t1}\n",
    "l1 = list(s)\n",
    "min = l1[:k]\n",
    "max = l1[-k:]\n",
    "print(max)\n",
    "print(min)"
   ]
  },
  {
   "cell_type": "markdown",
   "metadata": {},
   "source": [
    "### 03) WAP to find tuples which have all elements divisible by K from a list of tuples."
   ]
  },
  {
   "cell_type": "code",
   "execution_count": 59,
   "metadata": {},
   "outputs": [
    {
     "name": "stdout",
     "output_type": "stream",
     "text": [
      "Enter k 2\n",
      "[(2, 6, 4)]\n"
     ]
    }
   ],
   "source": [
    "l1 = [(1,2,-33) , (2,6,4) , (4,5,6)]\n",
    "k = int(input(\"Enter k \"))\n",
    "res = [t for t in l1 if all(i%k==0 for i in t)]\n",
    "print(res)\n",
    "\n"
   ]
  },
  {
   "cell_type": "markdown",
   "metadata": {},
   "source": [
    "### 04) WAP to create a list of tuples from given list having number and its cube in each tuple."
   ]
  },
  {
   "cell_type": "code",
   "execution_count": 52,
   "metadata": {},
   "outputs": [
    {
     "name": "stdout",
     "output_type": "stream",
     "text": [
      "Enter size of list 3\n",
      "Enter number 1\n",
      "Enter number 2\n",
      "Enter number 3\n",
      "[1, 2, 3]\n",
      "[(1, 1), (2, 8), (3, 27)]\n"
     ]
    }
   ],
   "source": [
    "n = int(input(\"Enter size of list \"))\n",
    "l1 = []\n",
    "for i in range(0,n):\n",
    "    n1 = int(input(\"Enter number \"))\n",
    "    l1.append(n1)\n",
    "\n",
    "l1 = [(i,i**3) for i in l1]\n",
    "print(l1)"
   ]
  },
  {
   "cell_type": "markdown",
   "metadata": {},
   "source": [
    "### 05) WAP to find tuples with all positive elements from the given list of tuples."
   ]
  },
  {
   "cell_type": "code",
   "execution_count": 57,
   "metadata": {},
   "outputs": [
    {
     "name": "stdout",
     "output_type": "stream",
     "text": [
      "[(2, 3, 4), (4, 5, 6)]\n"
     ]
    }
   ],
   "source": [
    "l1 = [(1,2,-33) , (2,3,4) , (4,5,6)]\n",
    "res = [t for t in l1 if all(i>0 for i in t)]\n",
    "print(res)"
   ]
  },
  {
   "cell_type": "markdown",
   "metadata": {},
   "source": [
    "### 06) WAP to add tuple to list and vice – versa."
   ]
  },
  {
   "cell_type": "code",
   "execution_count": 69,
   "metadata": {},
   "outputs": [
    {
     "name": "stdout",
     "output_type": "stream",
     "text": [
      "[(1, 2, -33), (2, 3, 4), (4, 5, 6), (7, 8)]\n"
     ]
    }
   ],
   "source": [
    "l1 = [(1,2,-33) , (2,3,4) , (4,5,6)]\n",
    "t = (7,8)\n",
    "l1.append(t)\n",
    "print(l1)"
   ]
  },
  {
   "cell_type": "markdown",
   "metadata": {},
   "source": [
    "### 07) WAP to remove tuples of length K."
   ]
  },
  {
   "cell_type": "code",
   "execution_count": 68,
   "metadata": {},
   "outputs": [
    {
     "name": "stdout",
     "output_type": "stream",
     "text": [
      "Enter k 6\n",
      "(15, 1, 3)\n"
     ]
    }
   ],
   "source": [
    "t4 = (15,1,3,26,21,3,4,5,6)\n",
    "k = int(input(\"Enter k \"))\n",
    "legth = 0\n",
    "for i in t4:\n",
    "    legth+=1\n",
    "new = t4[:legth - k]\n",
    "print(new)"
   ]
  },
  {
   "cell_type": "markdown",
   "metadata": {},
   "source": [
    "### 08) WAP to remove duplicates from tuple."
   ]
  },
  {
   "cell_type": "code",
   "execution_count": 62,
   "metadata": {},
   "outputs": [
    {
     "name": "stdout",
     "output_type": "stream",
     "text": [
      "(1, 2, 3, 4, 5, 6, 15, 21, 26)\n"
     ]
    }
   ],
   "source": [
    "t5 = (15,1,2,1,2,3,26,21,3,4,5,6)\n",
    "s = {i for i in t5}\n",
    "tu = tuple(s)\n",
    "print(tu)"
   ]
  },
  {
   "cell_type": "markdown",
   "metadata": {},
   "source": [
    "### 09) WAP to multiply adjacent elements of a tuple and print that resultant tuple."
   ]
  },
  {
   "cell_type": "code",
   "execution_count": null,
   "metadata": {},
   "outputs": [],
   "source": []
  },
  {
   "cell_type": "markdown",
   "metadata": {},
   "source": [
    "### 10) WAP to test if the given tuple is distinct or not."
   ]
  },
  {
   "cell_type": "code",
   "execution_count": 80,
   "metadata": {},
   "outputs": [
    {
     "name": "stdout",
     "output_type": "stream",
     "text": [
      "3 is multiple time tuple not distinct\n"
     ]
    }
   ],
   "source": [
    "t = (1,2,3,3,4,5)\n",
    "temp = 0\n",
    "for i in t:\n",
    "    if(t.count(i) > 1):\n",
    "        temp = i\n",
    "print(temp,\"is multiple time tuple not distinct\")"
   ]
  },
  {
   "cell_type": "code",
   "execution_count": null,
   "metadata": {},
   "outputs": [],
   "source": []
  }
 ],
 "metadata": {
  "kernelspec": {
   "display_name": "Python 3 (ipykernel)",
   "language": "python",
   "name": "python3"
  },
  "language_info": {
   "codemirror_mode": {
    "name": "ipython",
    "version": 3
   },
   "file_extension": ".py",
   "mimetype": "text/x-python",
   "name": "python",
   "nbconvert_exporter": "python",
   "pygments_lexer": "ipython3",
   "version": "3.10.9"
  }
 },
 "nbformat": 4,
 "nbformat_minor": 4
}
